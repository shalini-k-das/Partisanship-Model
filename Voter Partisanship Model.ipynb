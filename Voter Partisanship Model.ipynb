{
 "cells": [
  {
   "cell_type": "markdown",
   "metadata": {},
   "source": [
    "# Voter Partisanship Model\n",
    "The aim of this project was to improve upon the modelling efforts of the Texas Democratic Party and predict an individual's likelihood of supporting the progressive candidate in their respective Texas State House district. This part of the Mon4rch Model focuses solely on partisanship. In conjuction with a voter turnout model, this model was used to simulate election results for the 11 targeted State House Districts. In the 2024 cycle, we opted to use a CatBoost classification model, but this notebook can be used to inform future iterations of TDP modeling."
   ]
  },
  {
   "cell_type": "code",
   "execution_count": 135,
   "metadata": {},
   "outputs": [],
   "source": [
    "import pandas as pd\n",
    "import numpy as np\n",
    "import seaborn as sns\n",
    "import matplotlib.pyplot as plt\n",
    "import matplotlib.cm as cm\n",
    "import geopandas as gpd\n",
    "from shapely.geometry import shape\n",
    "from shapely import wkt\n",
    "import mapclassify as mc\n",
    "import shap\n",
    "from statsmodels.stats.outliers_influence import variance_inflation_factor\n",
    "from statsmodels.tools.tools import add_constant\n",
    "import catboost as cb\n",
    "# import xgboost as xgb\n",
    "from sklearn.metrics import r2_score, mean_squared_error, roc_auc_score, auc, roc_curve, RocCurveDisplay, mean_absolute_error, log_loss\n",
    "from sklearn.experimental import enable_iterative_imputer\n",
    "from sklearn.impute import KNNImputer, SimpleImputer\n",
    "from sklearn.cluster import KMeans\n",
    "from sklearn.utils import parallel_backend\n",
    "from sklearn.model_selection import train_test_split, GridSearchCV\n",
    "from sklearn.preprocessing import StandardScaler, PolynomialFeatures, LabelBinarizer, OneHotEncoder\n",
    "from sklearn.pipeline import Pipeline\n",
    "from sklearn.linear_model import Ridge, Lasso, LassoCV, SGDRegressor\n",
    "from sklearn.ensemble import AdaBoostClassifier, AdaBoostRegressor, StackingClassifier, StackingRegressor, HistGradientBoostingClassifier, HistGradientBoostingRegressor\n",
    "from sklearn.calibration import CalibrationDisplay\n",
    "from joblib import Parallel, delayed\n",
    "import torch\n",
    "import torch.nn as nn\n",
    "import torch.nn.functional as F\n",
    "import torch.optim as optim\n",
    "from torch.utils.data import DataLoader, TensorDataset\n",
    "import google\n",
    "from google.cloud import bigquery\n",
    "import pandas_gbq\n",
    "import pyarrow\n",
    "import db_dtypes\n",
    "import logging\n",
    "import psutil\n",
    "import warnings\n",
    "warnings.filterwarnings(action=\"ignore\")"
   ]
  },
  {
   "cell_type": "markdown",
   "metadata": {},
   "source": [
    "# Data cleaning//Preprocessing"
   ]
  },
  {
   "cell_type": "code",
   "execution_count": 53,
   "metadata": {},
   "outputs": [],
   "source": [
    "# client = bigquery.Client(project='demstxsp')\n",
    "# svs = client.query('SELECT DISTINCT(p.person_id), responses.state_house_district as district, sq.survey_question_text, responses.survey_question_id, (CASE WHEN codes.master_survey_response_name LIKE \"1 - Strong Democrat\" THEN 1 WHEN codes.master_survey_response_name LIKE \"2 - Lean Democrat\" THEN 0.75 WHEN codes.master_survey_response_name LIKE \"Ticket Splitter - D\" THEN 0.67 WHEN codes.master_survey_response_name LIKE \"Ticket Splitter - R\" THEN 0.33 WHEN codes.master_survey_response_name LIKE \"4 - Lean GOP\" THEN 0.25 WHEN codes.master_survey_response_name LIKE \"5 - Strong GOP\" THEN 0 WHEN codes.master_survey_response_name IN (\"3rd P/Independent\", \"3 - Undecided\", \"Ticket Splitter\") THEN 0.5 ELSE null END) AS PartyID, (CASE WHEN codes.master_survey_response_name LIKE \"Ticket Splitter\" THEN 2 WHEN codes.master_survey_response_name IN (\"3rd P/Independent\", \"3 - Undecided\") THEN 2 ELSE 1 END) AS Straight_v_Split_Ticket FROM `demstxsp.vansync_derived.responses_myv` AS responses LEFT JOIN `demstxsp.vansync.master_survey_responses` AS codes ON codes.master_survey_response_id = responses.master_survey_response_id LEFT JOIN `democrats.crosswalks_tx.vanid_to_personid` as p ON responses.myv_van_id = p.myv_van_id LEFT JOIN `demstxsp.vansync.survey_questions` AS sq ON responses.survey_question_id = sq.survey_question_id WHERE master_survey_response_name IS NOT NULL and responses.state_house_district IN (\"034\", \"052\", \"054\", \"070\", \"074\", \"094\", \"096\", \"112\", \"118\", \"121\", \"138\") and responses.survey_question_id IN (\"596010\", \"565917\") and sq.survey_question_cycle = 2024').to_dataframe()\n",
    "# sq_hdc_support = client.query('SELECT DISTINCT(dr.person_id),  dr.state_house_district as district,  sq.survey_question_text,  msr.master_survey_response_name, CASE WHEN msr.master_survey_response_name LIKE \"1 - Strong Support\" THEN 1 WHEN msr.master_survey_response_name LIKE \"2 - Lean Support\" THEN 0.75    WHEN msr.master_survey_response_name IN (\"Other/3rd Party\", \"3 - Undecided\") THEN 0.5 WHEN msr.master_survey_response_name LIKE \"4 - Lean GOP\" THEN 0.25    WHEN msr.master_survey_response_name LIKE \"5 - Strong GOP\" THEN 0    ELSE null     END AS hdc_support FROM `demstxsp.vansync.survey_questions` AS sq LEFT JOIN `demstxsp.vansync_derived.responses_myv` AS dr ON dr.survey_question_id = sq.survey_question_id LEFT JOIN `demstxsp.vansync.master_survey_responses` AS msr ON msr.master_survey_response_id = dr.master_survey_response_id WHERE dr.state_house_district IN (\"034\", \"052\", \"054\", \"070\", \"074\", \"094\", \"096\", \"112\", \"118\", \"121\", \"138\") AND sq.survey_question_id IN (\"599162\", \"57327\", \"558037\", \"582612\", \"605815\", \"599005\", \"571247\", \"593995\", \"602018\", \"604440\", \"466236\", \"588258\")').to_dataframe() \n",
    "# allred_msq = client.query('SELECT DISTINCT(p.person_id), responses.state_house_district as district, responses.survey_question_id, responses.master_survey_question_id, codes.master_survey_response_name as allred_approval FROM `demstxsp.vansync_derived.responses_myv` AS responses LEFT JOIN `demstxsp.vansync.master_survey_responses` AS codes ON codes.master_survey_response_id = responses.master_survey_response_id LEFT JOIN `democrats.crosswalks_tx.vanid_to_personid` as p ON responses.myv_van_id = p.myv_van_id WHERE state_house_district IN (\"034\", \"052\", \"054\", \"070\", \"074\", \"094\", \"096\", \"112\", \"118\", \"121\", \"138\") and survey_question_id = \"565021\"').to_dataframe()\n",
    "# svs[['person_id', 'district']] = svs[['person_id', 'district']].apply(pd.to_numeric)\n",
    "# svs = svs.replace({'district': {'034': 34, '052' : 52, '054' : 54, '070': 70, '074': 74, '094' : 94, '096' : 96}})\n",
    "# svs = svs.drop(columns = ['survey_question_text', 'survey_question_id'])\n",
    "\n",
    "# sq_hdc_support[['person_id', 'district']] = sq_hdc_support[['person_id', 'district']].apply(pd.to_numeric)\n",
    "# sq_hdc_support = sq_hdc_support.replace({'district': {'034': 34, '052' : 52, '054' : 54, '070': 70, '074': 74, '094' : 94, '096' : 96}})\n",
    "# sq_hdc_support = sq_hdc_support.rename(columns = {'hdc_support':'Dem_HD_Approval'})\n",
    "# sq_hdc_support = sq_hdc_support.drop(columns = ['survey_question_text', 'master_survey_response_name'])\n",
    "\n",
    "# allred_msq[['person_id', 'district']] = allred_msq[['person_id', 'district']].apply(pd.to_numeric)\n",
    "# allred_msq = allred_msq.replace({'district': {'034': 34, '052' : 52, '054' : 54, '070': 70, '074': 74, '094' : 94, '096' : 96}})\n",
    "# allred_msq = allred_msq.replace({'allred_approval' :{'1 - Strong Support': 1, '2 - Lean Support' : 0.75, '3 - Undecided': 0.5, '4 - Lean GOP': 0.25, '5 - Strong GOP' : 0, 'Other/3rd Party': 0}})\n",
    "# allred_msq = allred_msq.drop(columns = ['survey_question_id', 'master_survey_question_id'])"
   ]
  },
  {
   "cell_type": "code",
   "execution_count": 54,
   "metadata": {},
   "outputs": [],
   "source": [
    "df = pd.read_csv(r\"C:\\Users\\shali\\OneDrive\\Documents\\TDP\\HD MODEL\\bq-results-20240927-165054-1727455977250.csv\")\n",
    "df[['person_id', 'district']] = df[['person_id', 'district']].apply(pd.to_numeric)\n",
    "df = df.replace({'district': {'034': 34, '052' : 52, '054' : 54, '070': 70, '074': 74, '094' : 94, '096' : 96}})\n",
    "df = df.replace({'allred_approval' :{'1 - Strong Support': 1, '2 - Lean Support' : 0.75, '3 - Undecided': 0.5, '4 - Lean GOP': 0.25, '5 - Strong GOP' : 0, 'Other/3rd Party': 0}})"
   ]
  },
  {
   "cell_type": "code",
   "execution_count": 55,
   "metadata": {},
   "outputs": [],
   "source": [
    "hd_polling_data = pd.read_csv(r\"C:\\Users\\shali\\OneDrive\\Documents\\TDP\\HD MODEL\\hdc_model.csv\")\n",
    "hd_polling_data2 = pd.read_csv(r\"C:\\Users\\shali\\OneDrive\\Documents\\TDP\\HD MODEL\\hd_polling_data2.csv\")\n",
    "allred_msq = pd.read_csv(r\"C:\\Users\\shali\\OneDrive\\Documents\\TDP\\HD MODEL\\allred_msq.csv\")\n",
    "svs = pd.read_csv(r\"C:\\Users\\shali\\OneDrive\\Documents\\TDP\\HD MODEL\\svs.csv\")\n",
    "\n",
    "#hd_polling_data = hd_polling_data.merge(svs, how = \"left\", left_on=['person_id', 'district'], right_on=['person_id', 'district'])\n",
    "hd_polling_data2 = hd_polling_data2.merge(svs, how = \"left\", left_on=['person_id', 'district'], right_on=['person_id', 'district'])\n",
    "hd_polling_data2 = hd_polling_data2.drop(columns = ['PartyID_y'])\n",
    "hd_polling_data2 = hd_polling_data2.rename(columns= {'PartyID_x' :'PartyID'})\n",
    "df_college = df[['person_id', 'district', 'college_degree']]\n",
    "hd_polling_data2 = hd_polling_data2.merge(df_college, how = \"left\", left_on=['person_id', 'district'], right_on=['person_id', 'district'])\n",
    "\n",
    "hd_polling_data = hd_polling_data.replace({'college_degree': {1: 1, 2: 0}})\n",
    "hd_polling_data = hd_polling_data.rename(columns= {'college_degree' : 'college_degree_poll'})\n",
    "\n",
    "hd_polling_data = hd_polling_data.replace({'hdc_support': {1: 0, 2: 1, 3: 0.5}})\n",
    "hd_polling_data = hd_polling_data.replace({'hdc_support_2': {1: 0, 2: 1, 3: 0.5}})\n",
    "hd_polling_data = hd_polling_data.replace({'hdc_support_3': {1: 0, 2: 1, 3: 0.5}})\n",
    "\n",
    "hd_polling_data.loc[hd_polling_data['PartyID'] == 1, 'hdc_support'] = hd_polling_data.loc[hd_polling_data['PartyID'] == 1, 'hdc_support'].fillna(1)\n",
    "hd_polling_data.loc[hd_polling_data['PartyID'] == 2, 'hdc_support'] = hd_polling_data.loc[hd_polling_data['PartyID'] == 2, 'hdc_support'].fillna(0)\n",
    "hd_polling_data.loc[hd_polling_data['PartyID'] == 1, 'hdc_support_2'] = hd_polling_data.loc[hd_polling_data['PartyID'] == 1, 'hdc_support_2'].fillna(1)\n",
    "hd_polling_data.loc[hd_polling_data['PartyID'] == 2, 'hdc_support_2'] = hd_polling_data.loc[hd_polling_data['PartyID'] == 2, 'hdc_support_2'].fillna(0)\n",
    "hd_polling_data.loc[hd_polling_data['PartyID'] == 1, 'hdc_support_3'] = hd_polling_data.loc[hd_polling_data['PartyID'] == 1, 'hdc_support_3'].fillna(1)\n",
    "hd_polling_data.loc[hd_polling_data['PartyID'] == 2, 'hdc_support_3'] = hd_polling_data.loc[hd_polling_data['PartyID'] == 2, 'hdc_support_3'].fillna(0)\n",
    "\n",
    "hd_polling_data = hd_polling_data.replace({'Dem_HD_Approval': {1: 1, 2: 0.75, 3: 0.25, 4: 0, 5:0.5}})\n",
    "hd_polling_data = hd_polling_data.replace({'Rep_HD_Approval': {1: 0, 2: 0.25, 3: 0.75, 4: 1, 5:0.5}})\n",
    "hd_polling_data = hd_polling_data.replace({'trump_approval': {1: 0, 2: 0.25, 3: 0.75, 4: 1, 5:0.5}})\n",
    "hd_polling_data = hd_polling_data.replace({'cruz_approval': {1: 0, 2: 0.25, 3: 0.75, 4: 1, 5:0.5}})\n",
    "hd_polling_data = hd_polling_data.replace({'biden_approval': {1: 1, 2: 0.75, 3: 0.25, 4: 0, 5:0.5}})\n",
    "hd_polling_data = hd_polling_data.replace({'harris_approval': {1: 1, 2: 0.75, 3: 0.25, 4: 0, 5:0.5}})\n",
    "hd_polling_data = hd_polling_data.replace({'allred_approval': {1: 1, 2: 0.75, 3: 0.25, 4: 0, 5:0.5}})\n",
    "\n",
    "hd_polling_data2 = hd_polling_data2.replace({'Dem_HD_Approval': {1: 1, 2: 0.75, 3: 0.25, 4: 0, 5:0.5}})\n",
    "hd_polling_data2 = hd_polling_data2.replace({'Rep_HD_Approval': {1: 0, 2: 0.25, 3: 0.75, 4: 1, 5:0.5}})\n",
    "hd_polling_data2 = hd_polling_data2.replace({'trump_approval': {1: 0, 2: 0.25, 3: 0.75, 4: 1, 5:0.5}})\n",
    "hd_polling_data2 = hd_polling_data2.replace({'cruz_approval': {1: 0, 2: 0.25, 3: 0.75, 4: 1, 5:0.5}})\n",
    "hd_polling_data2 = hd_polling_data2.replace({'harris_approval': {1: 1, 2: 0.75, 3: 0.25, 4: 0, 5:0.5}})\n",
    "hd_polling_data2 = hd_polling_data2.replace({'allred_approval': {1: 1, 2: 0.75, 3: 0.25, 4: 0, 5:0.5}})\n",
    "\n",
    "hd_polling_data['hd_persuasion'] = hd_polling_data[['hdc_support', 'hdc_support_2', 'hdc_support_3']].mean(axis=1)\n",
    "hd_polling_data['hd_favorability'] = hd_polling_data[['Dem_HD_Approval', 'Rep_HD_Approval']].mean(axis=1)\n",
    "hd_polling_data = hd_polling_data.drop(columns = ['hdc_support_2', 'change_w_info', 'hdc_support_3', 'change_w_info_2', 'hd_persuasion', 'hd_favorability'])\n",
    "hd_polling_data = hd_polling_data.rename(columns= {'college_degree_poll' : 'college_degree'})"
   ]
  },
  {
   "cell_type": "code",
   "execution_count": 56,
   "metadata": {},
   "outputs": [],
   "source": [
    "train = pd.concat([hd_polling_data, hd_polling_data2])\n",
    "train['Straight_v_Split_Ticket'] = train['Straight_v_Split_Ticket'].replace({'1D': 1, '1R': 1})\n",
    "train = train.drop(columns = ['Phone'])\n",
    "train = train.replace({pd.NA: np.nan})"
   ]
  },
  {
   "cell_type": "code",
   "execution_count": 57,
   "metadata": {},
   "outputs": [],
   "source": [
    "df_joining = df.drop(columns = ['age_range', 'gender', 'age_combined', 'college_degree', 'hdc_support', 'allred_approval', 'Straight_v_Split_Ticket', 'party_id'])\n",
    "train_df_merge = pd.merge(train, df_joining, how= 'left', on= ['person_id', 'district', 'Support_Score', 'Turnout_Score'] )\n",
    "train_df_merge = train_df_merge.drop_duplicates()\n",
    "train_df_merge = train_df_merge.replace({pd.NA: np.nan})\n",
    "\n",
    "train_df_merge.loc[train_df_merge['hispanic/latino'] == 1, 'eth_h'] = train_df_merge.loc[train_df_merge['hispanic/latino'] == 1, 'eth_h'].fillna(1)\n",
    "train_df_merge.loc[train_df_merge['hispanic/latino'] == 2, 'eth_h'] = train_df_merge.loc[train_df_merge['hispanic/latino'] == 2, 'eth_h'].fillna(0)\n",
    "train_df_merge = train_df_merge.drop(columns = ['hispanic/latino'])"
   ]
  },
  {
   "cell_type": "markdown",
   "metadata": {},
   "source": [
    "## Impute Training Dataset "
   ]
  },
  {
   "cell_type": "code",
   "execution_count": 58,
   "metadata": {},
   "outputs": [],
   "source": [
    "knn_imputer = KNNImputer(n_neighbors=5)\n",
    "train_knn_imputed = pd.DataFrame(knn_imputer.fit_transform(train_df_merge), columns=train_df_merge.columns)\n",
    "train = train_knn_imputed.drop(['Turnout_Score', 'Straight_v_Split_Ticket', 'PartyID', 'Dem_HD_Approval', 'Rep_HD_Approval', 'trump_approval', 'cruz_approval', 'harris_approval', 'allred_approval', 'religion_other_christian', 'dem_primary_votes', 'choice_support', 'tsmart_2016_donor_likelihood', 'civis_2018_ballot_completion', 'dnc_2016_rolloff_risk_rank', 'dnc_2016_downballot_vote', 'dnc_2016_downballot_defection_rank', 'rep_primary_votes', 'dnc_2020_dem_party_support_v2', 'dnc_2022_dem_party_support_v2', 'civis_2018_ballot_dropoff', 'religion_catholic', 'eth_n', 'eth_w'], axis=1)"
   ]
  },
  {
   "cell_type": "markdown",
   "metadata": {},
   "source": [
    "## Feature Selection"
   ]
  },
  {
   "cell_type": "code",
   "execution_count": 59,
   "metadata": {},
   "outputs": [
    {
     "data": {
      "application/vnd.microsoft.datawrangler.viewer.v0+json": {
       "columns": [
        {
         "name": "index",
         "rawType": "int64",
         "type": "integer"
        },
        {
         "name": "feature",
         "rawType": "object",
         "type": "string"
        },
        {
         "name": "VIF",
         "rawType": "float64",
         "type": "float"
        }
       ],
       "conversionMethod": "pd.DataFrame",
       "ref": "1ad6f529-4cff-4726-909d-939fbe10c956",
       "rows": [
        [
         "26",
         "civis_2018_ballot_dropoff",
         "9007199254740992.0"
        ],
        [
         "27",
         "civis_2018_ballot_completion",
         "562949953421312.0"
        ],
        [
         "45",
         "religion_evangelical_protestant",
         "10056134.053142406"
        ],
        [
         "46",
         "religion_catholic",
         "6076836.572318456"
        ],
        [
         "54",
         "religion_not_religious",
         "5381791.558514284"
        ],
        [
         "49",
         "religion_hindu",
         "2769460.6226280206"
        ],
        [
         "50",
         "religion_mainline_protestant",
         "2645876.706178775"
        ],
        [
         "48",
         "religion_jewish",
         "819889.1836370553"
        ],
        [
         "52",
         "religion_other_christian",
         "572635.8678014099"
        ],
        [
         "53",
         "religion_buddhist",
         "444131.6316587261"
        ],
        [
         "47",
         "religion_muslim",
         "25344.100591272017"
        ],
        [
         "51",
         "religion_latter_day_saint",
         "8763.471333173613"
        ],
        [
         "69",
         "dem_primary_votes",
         "56.8178815714728"
        ],
        [
         "17",
         "dnc_2020_dem_party_support_v2",
         "55.17766378266914"
        ],
        [
         "70",
         "rep_primary_votes",
         "37.84653882662309"
        ],
        [
         "18",
         "dnc_2022_dem_party_support_v2",
         "33.79036447051153"
        ],
        [
         "59",
         "p2020_d",
         "30.124258713128167"
        ],
        [
         "28",
         "deck_2022_state_house_support",
         "23.776506469651473"
        ],
        [
         "1",
         "person_id",
         "22.915787785753782"
        ],
        [
         "23",
         "dnc_2018_downballot_vote",
         "21.92509914292953"
        ],
        [
         "19",
         "choice_support",
         "21.853576254593577"
        ],
        [
         "60",
         "p2020_r",
         "19.027066252931668"
        ],
        [
         "65",
         "g2014",
         "18.742911530212176"
        ],
        [
         "43",
         "eth_a",
         "16.528244136691498"
        ],
        [
         "25",
         "dnc_2018_downballot_defection_rank",
         "15.73594093436865"
        ],
        [
         "55",
         "p2024_d",
         "15.305822658279743"
        ],
        [
         "22",
         "dnc_2016_downballot_vote",
         "15.000744087984303"
        ],
        [
         "62",
         "g2016",
         "14.88653516483283"
        ],
        [
         "29",
         "dnc_2022_malaise",
         "14.510644856064447"
        ],
        [
         "64",
         "p2016_r",
         "13.310677521873055"
        ],
        [
         "66",
         "g2012",
         "13.264841945575014"
        ],
        [
         "20",
         "tsmart_2016_donor_likelihood",
         "12.879636737925736"
        ],
        [
         "56",
         "p2024_r",
         "11.98925660259482"
        ]
       ],
       "shape": {
        "columns": 2,
        "rows": 33
       }
      },
      "text/html": [
       "<div>\n",
       "<style scoped>\n",
       "    .dataframe tbody tr th:only-of-type {\n",
       "        vertical-align: middle;\n",
       "    }\n",
       "\n",
       "    .dataframe tbody tr th {\n",
       "        vertical-align: top;\n",
       "    }\n",
       "\n",
       "    .dataframe thead th {\n",
       "        text-align: right;\n",
       "    }\n",
       "</style>\n",
       "<table border=\"1\" class=\"dataframe\">\n",
       "  <thead>\n",
       "    <tr style=\"text-align: right;\">\n",
       "      <th></th>\n",
       "      <th>feature</th>\n",
       "      <th>VIF</th>\n",
       "    </tr>\n",
       "  </thead>\n",
       "  <tbody>\n",
       "    <tr>\n",
       "      <th>26</th>\n",
       "      <td>civis_2018_ballot_dropoff</td>\n",
       "      <td>9.007199e+15</td>\n",
       "    </tr>\n",
       "    <tr>\n",
       "      <th>27</th>\n",
       "      <td>civis_2018_ballot_completion</td>\n",
       "      <td>5.629500e+14</td>\n",
       "    </tr>\n",
       "    <tr>\n",
       "      <th>45</th>\n",
       "      <td>religion_evangelical_protestant</td>\n",
       "      <td>1.005613e+07</td>\n",
       "    </tr>\n",
       "    <tr>\n",
       "      <th>46</th>\n",
       "      <td>religion_catholic</td>\n",
       "      <td>6.076837e+06</td>\n",
       "    </tr>\n",
       "    <tr>\n",
       "      <th>54</th>\n",
       "      <td>religion_not_religious</td>\n",
       "      <td>5.381792e+06</td>\n",
       "    </tr>\n",
       "    <tr>\n",
       "      <th>49</th>\n",
       "      <td>religion_hindu</td>\n",
       "      <td>2.769461e+06</td>\n",
       "    </tr>\n",
       "    <tr>\n",
       "      <th>50</th>\n",
       "      <td>religion_mainline_protestant</td>\n",
       "      <td>2.645877e+06</td>\n",
       "    </tr>\n",
       "    <tr>\n",
       "      <th>48</th>\n",
       "      <td>religion_jewish</td>\n",
       "      <td>8.198892e+05</td>\n",
       "    </tr>\n",
       "    <tr>\n",
       "      <th>52</th>\n",
       "      <td>religion_other_christian</td>\n",
       "      <td>5.726359e+05</td>\n",
       "    </tr>\n",
       "    <tr>\n",
       "      <th>53</th>\n",
       "      <td>religion_buddhist</td>\n",
       "      <td>4.441316e+05</td>\n",
       "    </tr>\n",
       "    <tr>\n",
       "      <th>47</th>\n",
       "      <td>religion_muslim</td>\n",
       "      <td>2.534410e+04</td>\n",
       "    </tr>\n",
       "    <tr>\n",
       "      <th>51</th>\n",
       "      <td>religion_latter_day_saint</td>\n",
       "      <td>8.763471e+03</td>\n",
       "    </tr>\n",
       "    <tr>\n",
       "      <th>69</th>\n",
       "      <td>dem_primary_votes</td>\n",
       "      <td>5.681788e+01</td>\n",
       "    </tr>\n",
       "    <tr>\n",
       "      <th>17</th>\n",
       "      <td>dnc_2020_dem_party_support_v2</td>\n",
       "      <td>5.517766e+01</td>\n",
       "    </tr>\n",
       "    <tr>\n",
       "      <th>70</th>\n",
       "      <td>rep_primary_votes</td>\n",
       "      <td>3.784654e+01</td>\n",
       "    </tr>\n",
       "    <tr>\n",
       "      <th>18</th>\n",
       "      <td>dnc_2022_dem_party_support_v2</td>\n",
       "      <td>3.379036e+01</td>\n",
       "    </tr>\n",
       "    <tr>\n",
       "      <th>59</th>\n",
       "      <td>p2020_d</td>\n",
       "      <td>3.012426e+01</td>\n",
       "    </tr>\n",
       "    <tr>\n",
       "      <th>28</th>\n",
       "      <td>deck_2022_state_house_support</td>\n",
       "      <td>2.377651e+01</td>\n",
       "    </tr>\n",
       "    <tr>\n",
       "      <th>1</th>\n",
       "      <td>person_id</td>\n",
       "      <td>2.291579e+01</td>\n",
       "    </tr>\n",
       "    <tr>\n",
       "      <th>23</th>\n",
       "      <td>dnc_2018_downballot_vote</td>\n",
       "      <td>2.192510e+01</td>\n",
       "    </tr>\n",
       "    <tr>\n",
       "      <th>19</th>\n",
       "      <td>choice_support</td>\n",
       "      <td>2.185358e+01</td>\n",
       "    </tr>\n",
       "    <tr>\n",
       "      <th>60</th>\n",
       "      <td>p2020_r</td>\n",
       "      <td>1.902707e+01</td>\n",
       "    </tr>\n",
       "    <tr>\n",
       "      <th>65</th>\n",
       "      <td>g2014</td>\n",
       "      <td>1.874291e+01</td>\n",
       "    </tr>\n",
       "    <tr>\n",
       "      <th>43</th>\n",
       "      <td>eth_a</td>\n",
       "      <td>1.652824e+01</td>\n",
       "    </tr>\n",
       "    <tr>\n",
       "      <th>25</th>\n",
       "      <td>dnc_2018_downballot_defection_rank</td>\n",
       "      <td>1.573594e+01</td>\n",
       "    </tr>\n",
       "    <tr>\n",
       "      <th>55</th>\n",
       "      <td>p2024_d</td>\n",
       "      <td>1.530582e+01</td>\n",
       "    </tr>\n",
       "    <tr>\n",
       "      <th>22</th>\n",
       "      <td>dnc_2016_downballot_vote</td>\n",
       "      <td>1.500074e+01</td>\n",
       "    </tr>\n",
       "    <tr>\n",
       "      <th>62</th>\n",
       "      <td>g2016</td>\n",
       "      <td>1.488654e+01</td>\n",
       "    </tr>\n",
       "    <tr>\n",
       "      <th>29</th>\n",
       "      <td>dnc_2022_malaise</td>\n",
       "      <td>1.451064e+01</td>\n",
       "    </tr>\n",
       "    <tr>\n",
       "      <th>64</th>\n",
       "      <td>p2016_r</td>\n",
       "      <td>1.331068e+01</td>\n",
       "    </tr>\n",
       "    <tr>\n",
       "      <th>66</th>\n",
       "      <td>g2012</td>\n",
       "      <td>1.326484e+01</td>\n",
       "    </tr>\n",
       "    <tr>\n",
       "      <th>20</th>\n",
       "      <td>tsmart_2016_donor_likelihood</td>\n",
       "      <td>1.287964e+01</td>\n",
       "    </tr>\n",
       "    <tr>\n",
       "      <th>56</th>\n",
       "      <td>p2024_r</td>\n",
       "      <td>1.198926e+01</td>\n",
       "    </tr>\n",
       "  </tbody>\n",
       "</table>\n",
       "</div>"
      ],
      "text/plain": [
       "                               feature           VIF\n",
       "26           civis_2018_ballot_dropoff  9.007199e+15\n",
       "27        civis_2018_ballot_completion  5.629500e+14\n",
       "45     religion_evangelical_protestant  1.005613e+07\n",
       "46                   religion_catholic  6.076837e+06\n",
       "54              religion_not_religious  5.381792e+06\n",
       "49                      religion_hindu  2.769461e+06\n",
       "50        religion_mainline_protestant  2.645877e+06\n",
       "48                     religion_jewish  8.198892e+05\n",
       "52            religion_other_christian  5.726359e+05\n",
       "53                   religion_buddhist  4.441316e+05\n",
       "47                     religion_muslim  2.534410e+04\n",
       "51           religion_latter_day_saint  8.763471e+03\n",
       "69                   dem_primary_votes  5.681788e+01\n",
       "17       dnc_2020_dem_party_support_v2  5.517766e+01\n",
       "70                   rep_primary_votes  3.784654e+01\n",
       "18       dnc_2022_dem_party_support_v2  3.379036e+01\n",
       "59                             p2020_d  3.012426e+01\n",
       "28       deck_2022_state_house_support  2.377651e+01\n",
       "1                            person_id  2.291579e+01\n",
       "23            dnc_2018_downballot_vote  2.192510e+01\n",
       "19                      choice_support  2.185358e+01\n",
       "60                             p2020_r  1.902707e+01\n",
       "65                               g2014  1.874291e+01\n",
       "43                               eth_a  1.652824e+01\n",
       "25  dnc_2018_downballot_defection_rank  1.573594e+01\n",
       "55                             p2024_d  1.530582e+01\n",
       "22            dnc_2016_downballot_vote  1.500074e+01\n",
       "62                               g2016  1.488654e+01\n",
       "29                    dnc_2022_malaise  1.451064e+01\n",
       "64                             p2016_r  1.331068e+01\n",
       "66                               g2012  1.326484e+01\n",
       "20        tsmart_2016_donor_likelihood  1.287964e+01\n",
       "56                             p2024_r  1.198926e+01"
      ]
     },
     "execution_count": 59,
     "metadata": {},
     "output_type": "execute_result"
    }
   ],
   "source": [
    "train_knn_imputed = add_constant(train_knn_imputed)\n",
    "vif_initial = pd.DataFrame()\n",
    "vif_initial[\"feature\"] = train_knn_imputed.columns\n",
    "\n",
    "# calculating VIF for each feature\n",
    "vif_initial[\"VIF\"] = [variance_inflation_factor(train_knn_imputed.values, i)\n",
    "                          for i in range(len(train_knn_imputed.columns))]\n",
    "vif_initial = vif_initial.sort_values(by = 'VIF', ascending = False)\n",
    "vif_initial = vif_initial[vif_initial['VIF'] > 10]\n",
    "vif_initial"
   ]
  },
  {
   "cell_type": "code",
   "execution_count": 60,
   "metadata": {},
   "outputs": [
    {
     "data": {
      "application/vnd.microsoft.datawrangler.viewer.v0+json": {
       "columns": [
        {
         "name": "index",
         "rawType": "int64",
         "type": "integer"
        },
        {
         "name": "feature",
         "rawType": "object",
         "type": "string"
        },
        {
         "name": "VIF",
         "rawType": "float64",
         "type": "float"
        }
       ],
       "conversionMethod": "pd.DataFrame",
       "ref": "058e3404-38a5-4de0-a9b0-ff6da9dc7c34",
       "rows": [
        [
         "0",
         "const",
         "2624.441090341993"
        ],
        [
         "67",
         "dem_primary_votes",
         "56.731959704115425"
        ],
        [
         "17",
         "dnc_2020_dem_party_support_v2",
         "55.14867423498162"
        ],
        [
         "68",
         "rep_primary_votes",
         "36.99432105870127"
        ],
        [
         "26",
         "civis_2018_ballot_dropoff",
         "33.17271853084064"
        ],
        [
         "18",
         "dnc_2022_dem_party_support_v2",
         "32.92002883227144"
        ],
        [
         "57",
         "p2020_d",
         "30.12296400705285"
        ],
        [
         "27",
         "deck_2022_state_house_support",
         "23.242549994525447"
        ],
        [
         "1",
         "person_id",
         "22.912754393931674"
        ],
        [
         "23",
         "dnc_2018_downballot_vote",
         "21.72758819042288"
        ],
        [
         "19",
         "choice_support",
         "20.651495769242846"
        ],
        [
         "63",
         "g2014",
         "18.73897103316499"
        ],
        [
         "58",
         "p2020_r",
         "18.28830131311129"
        ],
        [
         "48",
         "religion_mainline_protestant",
         "16.45184134788771"
        ],
        [
         "42",
         "eth_a",
         "16.442385206263104"
        ],
        [
         "25",
         "dnc_2018_downballot_defection_rank",
         "15.347678979396733"
        ],
        [
         "52",
         "religion_not_religious",
         "15.329177266805157"
        ],
        [
         "53",
         "p2024_d",
         "15.304676529276675"
        ],
        [
         "22",
         "dnc_2016_downballot_vote",
         "14.993355780809742"
        ],
        [
         "60",
         "g2016",
         "14.854632936287821"
        ],
        [
         "28",
         "dnc_2022_malaise",
         "14.034545433709727"
        ],
        [
         "64",
         "g2012",
         "13.261528657951848"
        ],
        [
         "62",
         "p2016_r",
         "13.129394166922314"
        ],
        [
         "20",
         "tsmart_2016_donor_likelihood",
         "12.87710555965046"
        ],
        [
         "54",
         "p2024_r",
         "11.928557366707677"
        ],
        [
         "47",
         "religion_hindu",
         "11.012609316489891"
        ]
       ],
       "shape": {
        "columns": 2,
        "rows": 26
       }
      },
      "text/html": [
       "<div>\n",
       "<style scoped>\n",
       "    .dataframe tbody tr th:only-of-type {\n",
       "        vertical-align: middle;\n",
       "    }\n",
       "\n",
       "    .dataframe tbody tr th {\n",
       "        vertical-align: top;\n",
       "    }\n",
       "\n",
       "    .dataframe thead th {\n",
       "        text-align: right;\n",
       "    }\n",
       "</style>\n",
       "<table border=\"1\" class=\"dataframe\">\n",
       "  <thead>\n",
       "    <tr style=\"text-align: right;\">\n",
       "      <th></th>\n",
       "      <th>feature</th>\n",
       "      <th>VIF</th>\n",
       "    </tr>\n",
       "  </thead>\n",
       "  <tbody>\n",
       "    <tr>\n",
       "      <th>0</th>\n",
       "      <td>const</td>\n",
       "      <td>2624.441090</td>\n",
       "    </tr>\n",
       "    <tr>\n",
       "      <th>67</th>\n",
       "      <td>dem_primary_votes</td>\n",
       "      <td>56.731960</td>\n",
       "    </tr>\n",
       "    <tr>\n",
       "      <th>17</th>\n",
       "      <td>dnc_2020_dem_party_support_v2</td>\n",
       "      <td>55.148674</td>\n",
       "    </tr>\n",
       "    <tr>\n",
       "      <th>68</th>\n",
       "      <td>rep_primary_votes</td>\n",
       "      <td>36.994321</td>\n",
       "    </tr>\n",
       "    <tr>\n",
       "      <th>26</th>\n",
       "      <td>civis_2018_ballot_dropoff</td>\n",
       "      <td>33.172719</td>\n",
       "    </tr>\n",
       "    <tr>\n",
       "      <th>18</th>\n",
       "      <td>dnc_2022_dem_party_support_v2</td>\n",
       "      <td>32.920029</td>\n",
       "    </tr>\n",
       "    <tr>\n",
       "      <th>57</th>\n",
       "      <td>p2020_d</td>\n",
       "      <td>30.122964</td>\n",
       "    </tr>\n",
       "    <tr>\n",
       "      <th>27</th>\n",
       "      <td>deck_2022_state_house_support</td>\n",
       "      <td>23.242550</td>\n",
       "    </tr>\n",
       "    <tr>\n",
       "      <th>1</th>\n",
       "      <td>person_id</td>\n",
       "      <td>22.912754</td>\n",
       "    </tr>\n",
       "    <tr>\n",
       "      <th>23</th>\n",
       "      <td>dnc_2018_downballot_vote</td>\n",
       "      <td>21.727588</td>\n",
       "    </tr>\n",
       "    <tr>\n",
       "      <th>19</th>\n",
       "      <td>choice_support</td>\n",
       "      <td>20.651496</td>\n",
       "    </tr>\n",
       "    <tr>\n",
       "      <th>63</th>\n",
       "      <td>g2014</td>\n",
       "      <td>18.738971</td>\n",
       "    </tr>\n",
       "    <tr>\n",
       "      <th>58</th>\n",
       "      <td>p2020_r</td>\n",
       "      <td>18.288301</td>\n",
       "    </tr>\n",
       "    <tr>\n",
       "      <th>48</th>\n",
       "      <td>religion_mainline_protestant</td>\n",
       "      <td>16.451841</td>\n",
       "    </tr>\n",
       "    <tr>\n",
       "      <th>42</th>\n",
       "      <td>eth_a</td>\n",
       "      <td>16.442385</td>\n",
       "    </tr>\n",
       "    <tr>\n",
       "      <th>25</th>\n",
       "      <td>dnc_2018_downballot_defection_rank</td>\n",
       "      <td>15.347679</td>\n",
       "    </tr>\n",
       "    <tr>\n",
       "      <th>52</th>\n",
       "      <td>religion_not_religious</td>\n",
       "      <td>15.329177</td>\n",
       "    </tr>\n",
       "    <tr>\n",
       "      <th>53</th>\n",
       "      <td>p2024_d</td>\n",
       "      <td>15.304677</td>\n",
       "    </tr>\n",
       "    <tr>\n",
       "      <th>22</th>\n",
       "      <td>dnc_2016_downballot_vote</td>\n",
       "      <td>14.993356</td>\n",
       "    </tr>\n",
       "    <tr>\n",
       "      <th>60</th>\n",
       "      <td>g2016</td>\n",
       "      <td>14.854633</td>\n",
       "    </tr>\n",
       "    <tr>\n",
       "      <th>28</th>\n",
       "      <td>dnc_2022_malaise</td>\n",
       "      <td>14.034545</td>\n",
       "    </tr>\n",
       "    <tr>\n",
       "      <th>64</th>\n",
       "      <td>g2012</td>\n",
       "      <td>13.261529</td>\n",
       "    </tr>\n",
       "    <tr>\n",
       "      <th>62</th>\n",
       "      <td>p2016_r</td>\n",
       "      <td>13.129394</td>\n",
       "    </tr>\n",
       "    <tr>\n",
       "      <th>20</th>\n",
       "      <td>tsmart_2016_donor_likelihood</td>\n",
       "      <td>12.877106</td>\n",
       "    </tr>\n",
       "    <tr>\n",
       "      <th>54</th>\n",
       "      <td>p2024_r</td>\n",
       "      <td>11.928557</td>\n",
       "    </tr>\n",
       "    <tr>\n",
       "      <th>47</th>\n",
       "      <td>religion_hindu</td>\n",
       "      <td>11.012609</td>\n",
       "    </tr>\n",
       "  </tbody>\n",
       "</table>\n",
       "</div>"
      ],
      "text/plain": [
       "                               feature          VIF\n",
       "0                                const  2624.441090\n",
       "67                   dem_primary_votes    56.731960\n",
       "17       dnc_2020_dem_party_support_v2    55.148674\n",
       "68                   rep_primary_votes    36.994321\n",
       "26           civis_2018_ballot_dropoff    33.172719\n",
       "18       dnc_2022_dem_party_support_v2    32.920029\n",
       "57                             p2020_d    30.122964\n",
       "27       deck_2022_state_house_support    23.242550\n",
       "1                            person_id    22.912754\n",
       "23            dnc_2018_downballot_vote    21.727588\n",
       "19                      choice_support    20.651496\n",
       "63                               g2014    18.738971\n",
       "58                             p2020_r    18.288301\n",
       "48        religion_mainline_protestant    16.451841\n",
       "42                               eth_a    16.442385\n",
       "25  dnc_2018_downballot_defection_rank    15.347679\n",
       "52              religion_not_religious    15.329177\n",
       "53                             p2024_d    15.304677\n",
       "22            dnc_2016_downballot_vote    14.993356\n",
       "60                               g2016    14.854633\n",
       "28                    dnc_2022_malaise    14.034545\n",
       "64                               g2012    13.261529\n",
       "62                             p2016_r    13.129394\n",
       "20        tsmart_2016_donor_likelihood    12.877106\n",
       "54                             p2024_r    11.928557\n",
       "47                      religion_hindu    11.012609"
      ]
     },
     "execution_count": 60,
     "metadata": {},
     "output_type": "execute_result"
    }
   ],
   "source": [
    "train_knn_imputed_2 = train_knn_imputed.drop(['civis_2018_ballot_completion', 'religion_catholic'], axis=1)\n",
    "vif_initial_2 = pd.DataFrame()\n",
    "vif_initial_2[\"feature\"] = train_knn_imputed_2.columns\n",
    "vif_initial_2[\"VIF\"] = [variance_inflation_factor(train_knn_imputed_2.values, i)\n",
    "                          for i in range(len(train_knn_imputed_2.columns))]\n",
    "vif_initial_2 = vif_initial_2.sort_values(by = 'VIF', ascending = False)\n",
    "vif_initial_2 = vif_initial_2[vif_initial_2['VIF'] > 10]\n",
    "vif_initial_2"
   ]
  },
  {
   "cell_type": "code",
   "execution_count": 61,
   "metadata": {},
   "outputs": [
    {
     "data": {
      "application/vnd.microsoft.datawrangler.viewer.v0+json": {
       "columns": [
        {
         "name": "index",
         "rawType": "int64",
         "type": "integer"
        },
        {
         "name": "feature",
         "rawType": "object",
         "type": "string"
        },
        {
         "name": "VIF",
         "rawType": "float64",
         "type": "float"
        }
       ],
       "conversionMethod": "pd.DataFrame",
       "ref": "9aa183cc-4fb3-49e2-8fd3-695edf4419d6",
       "rows": [
        [
         "0",
         "const",
         "1078.1564698051402"
        ],
        [
         "15",
         "deck_2022_state_house_support",
         "15.285931759325779"
        ],
        [
         "48",
         "g2012",
         "9.974386037258778"
        ],
        [
         "45",
         "g2016",
         "9.092563422172294"
        ],
        [
         "1",
         "person_id",
         "8.477506018369988"
        ],
        [
         "42",
         "p2020_d",
         "7.544413000503198"
        ],
        [
         "47",
         "p2016_r",
         "7.322956123815321"
        ],
        [
         "44",
         "g2018",
         "6.422656598578997"
        ],
        [
         "16",
         "dnc_2022_malaise",
         "6.168963629259338"
        ],
        [
         "14",
         "dnc_2016_downballot_defection_rank",
         "5.639696996717561"
        ],
        [
         "43",
         "p2020_r",
         "5.342391232466771"
        ],
        [
         "22",
         "gun_control_persuasion_20",
         "5.254170772629294"
        ],
        [
         "41",
         "g2020",
         "5.243228182193864"
        ],
        [
         "31",
         "religion_evangelical_protestant",
         "5.061425026545796"
        ],
        [
         "13",
         "dnc_2016_downballot_vote",
         "5.0211189850288385"
        ]
       ],
       "shape": {
        "columns": 2,
        "rows": 15
       }
      },
      "text/html": [
       "<div>\n",
       "<style scoped>\n",
       "    .dataframe tbody tr th:only-of-type {\n",
       "        vertical-align: middle;\n",
       "    }\n",
       "\n",
       "    .dataframe tbody tr th {\n",
       "        vertical-align: top;\n",
       "    }\n",
       "\n",
       "    .dataframe thead th {\n",
       "        text-align: right;\n",
       "    }\n",
       "</style>\n",
       "<table border=\"1\" class=\"dataframe\">\n",
       "  <thead>\n",
       "    <tr style=\"text-align: right;\">\n",
       "      <th></th>\n",
       "      <th>feature</th>\n",
       "      <th>VIF</th>\n",
       "    </tr>\n",
       "  </thead>\n",
       "  <tbody>\n",
       "    <tr>\n",
       "      <th>0</th>\n",
       "      <td>const</td>\n",
       "      <td>1078.156470</td>\n",
       "    </tr>\n",
       "    <tr>\n",
       "      <th>15</th>\n",
       "      <td>deck_2022_state_house_support</td>\n",
       "      <td>15.285932</td>\n",
       "    </tr>\n",
       "    <tr>\n",
       "      <th>48</th>\n",
       "      <td>g2012</td>\n",
       "      <td>9.974386</td>\n",
       "    </tr>\n",
       "    <tr>\n",
       "      <th>45</th>\n",
       "      <td>g2016</td>\n",
       "      <td>9.092563</td>\n",
       "    </tr>\n",
       "    <tr>\n",
       "      <th>1</th>\n",
       "      <td>person_id</td>\n",
       "      <td>8.477506</td>\n",
       "    </tr>\n",
       "    <tr>\n",
       "      <th>42</th>\n",
       "      <td>p2020_d</td>\n",
       "      <td>7.544413</td>\n",
       "    </tr>\n",
       "    <tr>\n",
       "      <th>47</th>\n",
       "      <td>p2016_r</td>\n",
       "      <td>7.322956</td>\n",
       "    </tr>\n",
       "    <tr>\n",
       "      <th>44</th>\n",
       "      <td>g2018</td>\n",
       "      <td>6.422657</td>\n",
       "    </tr>\n",
       "    <tr>\n",
       "      <th>16</th>\n",
       "      <td>dnc_2022_malaise</td>\n",
       "      <td>6.168964</td>\n",
       "    </tr>\n",
       "    <tr>\n",
       "      <th>14</th>\n",
       "      <td>dnc_2016_downballot_defection_rank</td>\n",
       "      <td>5.639697</td>\n",
       "    </tr>\n",
       "    <tr>\n",
       "      <th>43</th>\n",
       "      <td>p2020_r</td>\n",
       "      <td>5.342391</td>\n",
       "    </tr>\n",
       "    <tr>\n",
       "      <th>22</th>\n",
       "      <td>gun_control_persuasion_20</td>\n",
       "      <td>5.254171</td>\n",
       "    </tr>\n",
       "    <tr>\n",
       "      <th>41</th>\n",
       "      <td>g2020</td>\n",
       "      <td>5.243228</td>\n",
       "    </tr>\n",
       "    <tr>\n",
       "      <th>31</th>\n",
       "      <td>religion_evangelical_protestant</td>\n",
       "      <td>5.061425</td>\n",
       "    </tr>\n",
       "    <tr>\n",
       "      <th>13</th>\n",
       "      <td>dnc_2016_downballot_vote</td>\n",
       "      <td>5.021119</td>\n",
       "    </tr>\n",
       "  </tbody>\n",
       "</table>\n",
       "</div>"
      ],
      "text/plain": [
       "                               feature          VIF\n",
       "0                                const  1078.156470\n",
       "15       deck_2022_state_house_support    15.285932\n",
       "48                               g2012     9.974386\n",
       "45                               g2016     9.092563\n",
       "1                            person_id     8.477506\n",
       "42                             p2020_d     7.544413\n",
       "47                             p2016_r     7.322956\n",
       "44                               g2018     6.422657\n",
       "16                    dnc_2022_malaise     6.168964\n",
       "14  dnc_2016_downballot_defection_rank     5.639697\n",
       "43                             p2020_r     5.342391\n",
       "22           gun_control_persuasion_20     5.254171\n",
       "41                               g2020     5.243228\n",
       "31     religion_evangelical_protestant     5.061425\n",
       "13            dnc_2016_downballot_vote     5.021119"
      ]
     },
     "execution_count": 61,
     "metadata": {},
     "output_type": "execute_result"
    }
   ],
   "source": [
    "train_knn_imputed_3 = train_knn_imputed_2.drop(['Straight_v_Split_Ticket', 'trump_approval', 'cruz_approval', 'harris_approval', 'allred_approval', 'dem_primary_votes', 'rep_primary_votes', 'dnc_2020_dem_party_support_v2', 'dnc_2022_dem_party_support_v2', 'eth_a', 'civis_2018_ballot_dropoff', 'choice_support', 'religion_not_religious', 'religion_mainline_protestant', 'dnc_2018_downballot_vote', 'g2014', 'dnc_2018_downballot_defection_rank', 'tsmart_2016_donor_likelihood'], axis=1)\n",
    "vif_initial_3 = pd.DataFrame()\n",
    "vif_initial_3[\"feature\"] = train_knn_imputed_3.columns\n",
    "vif_initial_3[\"VIF\"] = [variance_inflation_factor(train_knn_imputed_3.values, i)\n",
    "                          for i in range(len(train_knn_imputed_3.columns))]\n",
    "vif_initial_3 = vif_initial_3.sort_values(by = 'VIF', ascending = False)\n",
    "vif_initial_3 = vif_initial_3[vif_initial_3['VIF'] > 5]\n",
    "vif_initial_3"
   ]
  },
  {
   "cell_type": "markdown",
   "metadata": {},
   "source": [
    "'Straight_v_Split_Ticket' was removed, despite being a prominent feature from the polls returned to us by Frederick Polls in 2024 General Cycle, as there were only 12,910 responses to this question in BigQuery out of the 1,390,914 individuals in our test data set for these targeted districts. I opted to keep 'deck_2022_state_house_support' as the models we will be using are not as sensitive to multicollinearity, and this feature was expected to improve the predictive performance of the model without significantly compromising model accuracy.  "
   ]
  },
  {
   "cell_type": "markdown",
   "metadata": {},
   "source": [
    "## Impute Missing Data in Test Dataset"
   ]
  },
  {
   "cell_type": "code",
   "execution_count": 62,
   "metadata": {},
   "outputs": [],
   "source": [
    "df = df[~df['person_id'].isin(train_df_merge['person_id'])] # remove poll sample\n",
    "# sample = df.drop(['party_id', 'age_combined', 'civis_2018_ballot_completion', 'religion_catholic', 'dnc_2020_dem_party_support_v2', 'dnc_2022_dem_party_support_v2', 'eth_a', 'civis_2018_ballot_dropoff', 'choice_support', 'religion_not_religious', 'religion_mainline_protestant', 'dnc_2018_downballot_vote', 'g2014', 'dnc_2018_downballot_defection_rank', 'tsmart_2016_donor_likelihood'], axis=1)\n",
    "sample = df.drop(['Straight_v_Split_Ticket', 'party_id', 'Turnout_Score', 'age_combined', 'allred_approval', 'religion_other_christian', 'dem_primary_votes', 'choice_support', 'tsmart_2016_donor_likelihood', 'civis_2018_ballot_completion', 'dnc_2016_rolloff_risk_rank', 'dnc_2016_downballot_vote', 'dnc_2016_downballot_defection_rank', 'rep_primary_votes', 'dnc_2020_dem_party_support_v2', 'dnc_2022_dem_party_support_v2', 'civis_2018_ballot_dropoff', 'religion_catholic', 'eth_n', 'eth_w'], axis=1)\n",
    "X_sample = sample.drop(['hdc_support'], axis=1)\n",
    "y_sample = np.array(sample['hdc_support'].astype('float64'))"
   ]
  },
  {
   "cell_type": "code",
   "execution_count": 63,
   "metadata": {},
   "outputs": [],
   "source": [
    "X_sample = X_sample[['person_id', 'district', 'Support_Score', 'gender', 'age_range', 'college_degree', 'dnc_2018_downballot_vote', 'dnc_2018_downballot_defection_rank', 'deck_2022_state_house_support', 'dnc_2022_malaise', 'healthcare_costs_persuasion_22', 'healthcare_costs_persuasion_24', 'trump_check_persuasion_20', 'trump_check_persuasion_22', 'trump_check_persuasion_24', 'gun_control_persuasion_20', 'gun_control_persuasion_22', 'gun_control_persuasion_24', 'abortion_persuasion_22', 'abortion_persuasion_24', 'eth_b', 'eth_h', 'eth_a', 'religion_evangelical_protestant', 'religion_muslim', 'religion_jewish', 'religion_hindu', 'religion_mainline_protestant', 'religion_latter_day_saint', 'religion_buddhist', 'religion_not_religious', 'p2024_d', 'p2024_r', 'g2022', 'g2020', 'p2020_d', 'p2020_r', 'g2018', 'g2016', 'p2016_d', 'p2016_r', 'g2014', 'g2012', 'p2012_d', 'p2012_r']]"
   ]
  },
  {
   "cell_type": "code",
   "execution_count": 64,
   "metadata": {},
   "outputs": [],
   "source": [
    "logging.basicConfig(level=logging.INFO) \n",
    "\n",
    "# Memory logging function\n",
    "def log_memory():\n",
    "    mem = psutil.virtual_memory()\n",
    "    logging.info(f\"Memory Usage: {mem.used / 1e9:.2f} GB / {mem.total / 1e9:.2f} GB\")"
   ]
  },
  {
   "cell_type": "code",
   "execution_count": 65,
   "metadata": {},
   "outputs": [],
   "source": [
    "kmeans = KMeans(n_clusters=14, random_state=42)\n",
    "knn_imputer = KNNImputer(n_neighbors=3)\n",
    "# Impute missing values before clustering\n",
    "simple_imputer = SimpleImputer(strategy='mean')\n",
    "sample_imputed_for_clustering = pd.DataFrame(simple_imputer.fit_transform(X_sample), columns=X_sample.columns)\n",
    "\n",
    "# cluster X_sample using simply imputed dataset\n",
    "sample_imputed_for_clustering['cluster'] = kmeans.fit_predict(sample_imputed_for_clustering)\n",
    "sample_imputed_for_clustering = sample_imputed_for_clustering.reset_index(drop=True)\n",
    "X_sample = X_sample.reset_index(drop=True)"
   ]
  },
  {
   "cell_type": "code",
   "execution_count": 66,
   "metadata": {},
   "outputs": [],
   "source": [
    "# Function to split data into chunks\n",
    "def chunk_data(X_sample, n_chunks):\n",
    "    return np.array_split(X_sample, n_chunks)\n",
    "\n",
    "# chunks bigquery data \n",
    "def impute_chunk(chunk, batch_size=50_000):\n",
    "    logging.info(f\"Processing chunk of shape {chunk.shape}\")\n",
    "    log_memory()  # Log before processing\n",
    "    imputed_batches = [knn_imputer.fit_transform(chunk[i : i + batch_size]) \n",
    "                       for i in range(0, len(chunk), batch_size)]\n",
    "    log_memory()  # Log after processing\n",
    "    return np.vstack(imputed_batches)"
   ]
  },
  {
   "cell_type": "code",
   "execution_count": 67,
   "metadata": {},
   "outputs": [],
   "source": [
    "# sets up parallelization for imputation\n",
    "def parallel_impute(data, n_chunks=14, n_jobs=2):\n",
    "    data_chunks = chunk_data(data, n_chunks)\n",
    "    try:\n",
    "        with parallel_backend('loky', n_jobs=n_jobs):  # Use 'loky' to manage memory better\n",
    "            imputed_chunks = Parallel()(delayed(impute_chunk)(chunk) for chunk in data_chunks)\n",
    "    except Exception as e:\n",
    "        logging.error(f\"Error during parallel processing: {e}\")\n",
    "        raise\n",
    "    return np.vstack(imputed_chunks)"
   ]
  },
  {
   "cell_type": "code",
   "execution_count": 68,
   "metadata": {},
   "outputs": [],
   "source": [
    "# impute missing values within each cluster\n",
    "def impute_within_clusters(data, n_chunks=14, n_jobs=2):\n",
    "    imputed_data = []\n",
    "\n",
    "    for cluster_id in data['cluster'].unique():\n",
    "        cluster_data = data[data['cluster'] == cluster_id]\n",
    "        cluster_features = cluster_data.drop(columns=['cluster'])\n",
    "        imputed_cluster = cluster_data.copy()\n",
    "        imputed_cluster[cluster_features.columns] = parallel_impute(cluster_features, n_chunks=n_chunks, n_jobs=n_jobs)\n",
    "        imputed_data.append(imputed_cluster)\n",
    "    \n",
    "    return pd.concat(imputed_data, axis=0)"
   ]
  },
  {
   "cell_type": "code",
   "execution_count": 69,
   "metadata": {},
   "outputs": [],
   "source": [
    "# Function to get imputed values for a specific cluster\n",
    "def get_imputed_values_for_cluster(imputed_data, original_data, cluster_labels, cluster_id):\n",
    "    mask = (cluster_labels == cluster_id)  # Boolean mask for the cluster\n",
    "    imputed_cluster_data = imputed_data.loc[mask]\n",
    "    original_cluster_data = original_data.loc[mask]\n",
    "    \n",
    "    return imputed_cluster_data.where(original_cluster_data.isna())"
   ]
  },
  {
   "cell_type": "code",
   "execution_count": 70,
   "metadata": {},
   "outputs": [
    {
     "name": "stderr",
     "output_type": "stream",
     "text": [
      "INFO:root:Processing chunk of shape (48296, 45)\n",
      "INFO:root:Memory Usage: 14.02 GB / 17.01 GB\n",
      "INFO:root:Memory Usage: 14.06 GB / 17.01 GB\n",
      "INFO:root:Processing chunk of shape (48295, 45)\n",
      "INFO:root:Memory Usage: 14.06 GB / 17.01 GB\n",
      "INFO:root:Memory Usage: 14.08 GB / 17.01 GB\n",
      "INFO:root:Processing chunk of shape (89998, 45)\n",
      "INFO:root:Memory Usage: 14.20 GB / 17.01 GB\n",
      "INFO:root:Memory Usage: 14.23 GB / 17.01 GB\n",
      "INFO:root:Processing chunk of shape (89998, 45)\n",
      "INFO:root:Memory Usage: 14.22 GB / 17.01 GB\n",
      "INFO:root:Memory Usage: 14.26 GB / 17.01 GB\n",
      "INFO:root:Processing chunk of shape (19154, 45)\n",
      "INFO:root:Memory Usage: 14.06 GB / 17.01 GB\n",
      "INFO:root:Memory Usage: 14.06 GB / 17.01 GB\n",
      "INFO:root:Processing chunk of shape (19154, 45)\n",
      "INFO:root:Memory Usage: 14.06 GB / 17.01 GB\n",
      "INFO:root:Memory Usage: 14.07 GB / 17.01 GB\n",
      "INFO:root:Processing chunk of shape (127908, 45)\n",
      "INFO:root:Memory Usage: 14.38 GB / 17.01 GB\n",
      "INFO:root:Memory Usage: 14.43 GB / 17.01 GB\n",
      "INFO:root:Processing chunk of shape (127908, 45)\n",
      "INFO:root:Memory Usage: 14.44 GB / 17.01 GB\n",
      "INFO:root:Memory Usage: 14.48 GB / 17.01 GB\n",
      "INFO:root:Processing chunk of shape (28086, 45)\n",
      "INFO:root:Memory Usage: 14.18 GB / 17.01 GB\n",
      "INFO:root:Memory Usage: 14.20 GB / 17.01 GB\n",
      "INFO:root:Processing chunk of shape (28085, 45)\n",
      "INFO:root:Memory Usage: 14.20 GB / 17.01 GB\n",
      "INFO:root:Memory Usage: 14.19 GB / 17.01 GB\n",
      "INFO:root:Processing chunk of shape (23658, 45)\n",
      "INFO:root:Memory Usage: 14.14 GB / 17.01 GB\n",
      "INFO:root:Memory Usage: 14.14 GB / 17.01 GB\n",
      "INFO:root:Processing chunk of shape (23658, 45)\n",
      "INFO:root:Memory Usage: 14.14 GB / 17.01 GB\n",
      "INFO:root:Memory Usage: 14.15 GB / 17.01 GB\n",
      "INFO:root:Processing chunk of shape (69121, 45)\n",
      "INFO:root:Memory Usage: 14.28 GB / 17.01 GB\n",
      "INFO:root:Memory Usage: 14.30 GB / 17.01 GB\n",
      "INFO:root:Processing chunk of shape (69121, 45)\n",
      "INFO:root:Memory Usage: 14.29 GB / 17.01 GB\n",
      "INFO:root:Memory Usage: 14.32 GB / 17.01 GB\n",
      "INFO:root:Processing chunk of shape (10048, 45)\n",
      "INFO:root:Memory Usage: 14.16 GB / 17.01 GB\n",
      "INFO:root:Memory Usage: 14.16 GB / 17.01 GB\n",
      "INFO:root:Processing chunk of shape (10048, 45)\n",
      "INFO:root:Memory Usage: 14.16 GB / 17.01 GB\n",
      "INFO:root:Memory Usage: 14.17 GB / 17.01 GB\n",
      "INFO:root:Processing chunk of shape (44033, 45)\n",
      "INFO:root:Memory Usage: 14.26 GB / 17.01 GB\n",
      "INFO:root:Memory Usage: 14.29 GB / 17.01 GB\n",
      "INFO:root:Processing chunk of shape (44033, 45)\n",
      "INFO:root:Memory Usage: 14.29 GB / 17.01 GB\n",
      "INFO:root:Memory Usage: 14.30 GB / 17.01 GB\n",
      "INFO:root:Processing chunk of shape (44687, 45)\n",
      "INFO:root:Memory Usage: 14.31 GB / 17.01 GB\n",
      "INFO:root:Memory Usage: 14.32 GB / 17.01 GB\n",
      "INFO:root:Processing chunk of shape (44687, 45)\n",
      "INFO:root:Memory Usage: 14.32 GB / 17.01 GB\n",
      "INFO:root:Memory Usage: 14.34 GB / 17.01 GB\n",
      "INFO:root:Processing chunk of shape (50055, 45)\n",
      "INFO:root:Memory Usage: 14.36 GB / 17.01 GB\n",
      "INFO:root:Memory Usage: 14.36 GB / 17.01 GB\n",
      "INFO:root:Processing chunk of shape (50054, 45)\n",
      "INFO:root:Memory Usage: 14.36 GB / 17.01 GB\n",
      "INFO:root:Memory Usage: 14.38 GB / 17.01 GB\n",
      "INFO:root:Processing chunk of shape (58556, 45)\n",
      "INFO:root:Memory Usage: 14.41 GB / 17.01 GB\n",
      "INFO:root:Memory Usage: 14.43 GB / 17.01 GB\n",
      "INFO:root:Processing chunk of shape (58555, 45)\n",
      "INFO:root:Memory Usage: 14.43 GB / 17.01 GB\n",
      "INFO:root:Memory Usage: 14.45 GB / 17.01 GB\n",
      "INFO:root:Processing chunk of shape (26606, 45)\n",
      "INFO:root:Memory Usage: 14.38 GB / 17.01 GB\n",
      "INFO:root:Memory Usage: 14.39 GB / 17.01 GB\n",
      "INFO:root:Processing chunk of shape (26606, 45)\n",
      "INFO:root:Memory Usage: 14.40 GB / 17.01 GB\n",
      "INFO:root:Memory Usage: 14.40 GB / 17.01 GB\n",
      "INFO:root:Processing chunk of shape (55253, 45)\n",
      "INFO:root:Memory Usage: 14.48 GB / 17.01 GB\n",
      "INFO:root:Memory Usage: 14.50 GB / 17.01 GB\n",
      "INFO:root:Processing chunk of shape (55253, 45)\n",
      "INFO:root:Memory Usage: 14.49 GB / 17.01 GB\n",
      "INFO:root:Memory Usage: 14.51 GB / 17.01 GB\n"
     ]
    }
   ],
   "source": [
    "# Apply imputation within clusters\n",
    "sample_imputed = impute_within_clusters(sample_imputed_for_clustering, n_chunks=2, n_jobs=1).reset_index(drop=True)"
   ]
  },
  {
   "cell_type": "code",
   "execution_count": 71,
   "metadata": {},
   "outputs": [],
   "source": [
    "# Vectorized approach to extract imputed values for all clusters\n",
    "cluster_labels = sample_imputed_for_clustering['cluster']\n",
    "cluster_imputed_values = {\n",
    "    cluster_id: get_imputed_values_for_cluster(sample_imputed, X_sample, cluster_labels, cluster_id)\n",
    "    for cluster_id in sorted(cluster_labels.unique())  # Sort for consistency\n",
    "    }"
   ]
  },
  {
   "cell_type": "code",
   "execution_count": 72,
   "metadata": {},
   "outputs": [],
   "source": [
    "# Combine all imputed values for each cluster into a single dataset\n",
    "combined_imputed_values = pd.concat(cluster_imputed_values.values(), axis=0)\n",
    "combined_imputed_values = combined_imputed_values.drop(columns=['cluster'])\n",
    "X_sample_imputed = X_sample.combine_first(combined_imputed_values)"
   ]
  },
  {
   "cell_type": "markdown",
   "metadata": {},
   "source": [
    "## Split Data into Train and Test Sets"
   ]
  },
  {
   "cell_type": "code",
   "execution_count": 73,
   "metadata": {},
   "outputs": [],
   "source": [
    "#train_df_merge['person_id'] = train_df_merge['person_id'].astype('float64')\n",
    "# train test split\n",
    "X = train.drop(['hdc_support'], axis=1)\n",
    "y = train['hdc_support']\n",
    "y = y.values.astype(float)\n",
    "y = y.reshape(-1, 1)\n",
    "encoder = OneHotEncoder(sparse=False)\n",
    "y = encoder.fit_transform(y)\n",
    "X_train, X_test, y_train, y_test = train_test_split(X, y, test_size=0.2, random_state=42)"
   ]
  },
  {
   "cell_type": "code",
   "execution_count": 74,
   "metadata": {},
   "outputs": [
    {
     "data": {
      "application/vnd.microsoft.datawrangler.viewer.v0+json": {
       "columns": [
        {
         "name": "index",
         "rawType": "int64",
         "type": "integer"
        },
        {
         "name": "feature",
         "rawType": "object",
         "type": "string"
        },
        {
         "name": "VIF",
         "rawType": "float64",
         "type": "float"
        }
       ],
       "conversionMethod": "pd.DataFrame",
       "ref": "b5ed4814-9141-4405-a3d0-4d7b20286ebf",
       "rows": [
        [
         "0",
         "const",
         "1097.9837417325582"
        ],
        [
         "9",
         "deck_2022_state_house_support",
         "14.822221088225229"
        ],
        [
         "23",
         "eth_a",
         "12.421411451078923"
        ],
        [
         "31",
         "religion_not_religious",
         "10.534336241553412"
        ],
        [
         "42",
         "g2014",
         "10.35264583683478"
        ],
        [
         "43",
         "g2012",
         "10.33300355125829"
        ],
        [
         "1",
         "person_id",
         "10.207422481409752"
        ],
        [
         "39",
         "g2016",
         "9.42752865002112"
        ],
        [
         "41",
         "p2016_r",
         "9.368675235066318"
        ],
        [
         "27",
         "religion_hindu",
         "8.79327996783266"
        ],
        [
         "8",
         "dnc_2018_downballot_defection_rank",
         "8.680733861826695"
        ],
        [
         "28",
         "religion_mainline_protestant",
         "7.4582598661804616"
        ],
        [
         "36",
         "p2020_d",
         "7.407658019182032"
        ],
        [
         "24",
         "religion_evangelical_protestant",
         "7.4061286717517305"
        ],
        [
         "7",
         "dnc_2018_downballot_vote",
         "7.1808152580047375"
        ],
        [
         "30",
         "religion_buddhist",
         "7.071865106527803"
        ],
        [
         "38",
         "g2018",
         "6.238750554874048"
        ],
        [
         "10",
         "dnc_2022_malaise",
         "6.14642921516447"
        ],
        [
         "16",
         "gun_control_persuasion_20",
         "5.636329576325559"
        ],
        [
         "35",
         "g2020",
         "5.545887524512008"
        ],
        [
         "13",
         "trump_check_persuasion_20",
         "5.2891913541994775"
        ],
        [
         "34",
         "g2022",
         "4.934842679699157"
        ],
        [
         "37",
         "p2020_r",
         "4.749104085220698"
        ],
        [
         "45",
         "p2012_r",
         "4.7276283885368615"
        ],
        [
         "40",
         "p2016_d",
         "4.325708435510578"
        ],
        [
         "21",
         "eth_b",
         "3.6783503415878926"
        ],
        [
         "15",
         "trump_check_persuasion_24",
         "3.394767292993775"
        ],
        [
         "33",
         "p2024_r",
         "3.358391382045302"
        ],
        [
         "25",
         "religion_muslim",
         "3.2072188089968776"
        ],
        [
         "32",
         "p2024_d",
         "3.1948706501550683"
        ],
        [
         "29",
         "religion_latter_day_saint",
         "3.0190158345806544"
        ],
        [
         "14",
         "trump_check_persuasion_22",
         "2.943959625635387"
        ],
        [
         "17",
         "gun_control_persuasion_22",
         "2.907367390837396"
        ],
        [
         "11",
         "healthcare_costs_persuasion_22",
         "2.8712693997860312"
        ],
        [
         "18",
         "gun_control_persuasion_24",
         "2.7258642552539185"
        ],
        [
         "12",
         "healthcare_costs_persuasion_24",
         "2.68481720035216"
        ],
        [
         "19",
         "abortion_persuasion_22",
         "2.632392549367115"
        ],
        [
         "44",
         "p2012_d",
         "2.553048428570643"
        ],
        [
         "26",
         "religion_jewish",
         "2.491259516315074"
        ],
        [
         "20",
         "abortion_persuasion_24",
         "2.1827479807575387"
        ],
        [
         "5",
         "age_range",
         "1.1325058151079817"
        ],
        [
         "22",
         "eth_h",
         "1.060173924156268"
        ],
        [
         "3",
         "Support_Score",
         "1.0512666105528816"
        ],
        [
         "2",
         "district",
         "1.0317573226468713"
        ],
        [
         "6",
         "college_degree",
         "1.0270331021323449"
        ],
        [
         "4",
         "gender",
         "1.0251582082226318"
        ]
       ],
       "shape": {
        "columns": 2,
        "rows": 46
       }
      },
      "text/html": [
       "<div>\n",
       "<style scoped>\n",
       "    .dataframe tbody tr th:only-of-type {\n",
       "        vertical-align: middle;\n",
       "    }\n",
       "\n",
       "    .dataframe tbody tr th {\n",
       "        vertical-align: top;\n",
       "    }\n",
       "\n",
       "    .dataframe thead th {\n",
       "        text-align: right;\n",
       "    }\n",
       "</style>\n",
       "<table border=\"1\" class=\"dataframe\">\n",
       "  <thead>\n",
       "    <tr style=\"text-align: right;\">\n",
       "      <th></th>\n",
       "      <th>feature</th>\n",
       "      <th>VIF</th>\n",
       "    </tr>\n",
       "  </thead>\n",
       "  <tbody>\n",
       "    <tr>\n",
       "      <th>0</th>\n",
       "      <td>const</td>\n",
       "      <td>1097.983742</td>\n",
       "    </tr>\n",
       "    <tr>\n",
       "      <th>9</th>\n",
       "      <td>deck_2022_state_house_support</td>\n",
       "      <td>14.822221</td>\n",
       "    </tr>\n",
       "    <tr>\n",
       "      <th>23</th>\n",
       "      <td>eth_a</td>\n",
       "      <td>12.421411</td>\n",
       "    </tr>\n",
       "    <tr>\n",
       "      <th>31</th>\n",
       "      <td>religion_not_religious</td>\n",
       "      <td>10.534336</td>\n",
       "    </tr>\n",
       "    <tr>\n",
       "      <th>42</th>\n",
       "      <td>g2014</td>\n",
       "      <td>10.352646</td>\n",
       "    </tr>\n",
       "    <tr>\n",
       "      <th>43</th>\n",
       "      <td>g2012</td>\n",
       "      <td>10.333004</td>\n",
       "    </tr>\n",
       "    <tr>\n",
       "      <th>1</th>\n",
       "      <td>person_id</td>\n",
       "      <td>10.207422</td>\n",
       "    </tr>\n",
       "    <tr>\n",
       "      <th>39</th>\n",
       "      <td>g2016</td>\n",
       "      <td>9.427529</td>\n",
       "    </tr>\n",
       "    <tr>\n",
       "      <th>41</th>\n",
       "      <td>p2016_r</td>\n",
       "      <td>9.368675</td>\n",
       "    </tr>\n",
       "    <tr>\n",
       "      <th>27</th>\n",
       "      <td>religion_hindu</td>\n",
       "      <td>8.793280</td>\n",
       "    </tr>\n",
       "    <tr>\n",
       "      <th>8</th>\n",
       "      <td>dnc_2018_downballot_defection_rank</td>\n",
       "      <td>8.680734</td>\n",
       "    </tr>\n",
       "    <tr>\n",
       "      <th>28</th>\n",
       "      <td>religion_mainline_protestant</td>\n",
       "      <td>7.458260</td>\n",
       "    </tr>\n",
       "    <tr>\n",
       "      <th>36</th>\n",
       "      <td>p2020_d</td>\n",
       "      <td>7.407658</td>\n",
       "    </tr>\n",
       "    <tr>\n",
       "      <th>24</th>\n",
       "      <td>religion_evangelical_protestant</td>\n",
       "      <td>7.406129</td>\n",
       "    </tr>\n",
       "    <tr>\n",
       "      <th>7</th>\n",
       "      <td>dnc_2018_downballot_vote</td>\n",
       "      <td>7.180815</td>\n",
       "    </tr>\n",
       "    <tr>\n",
       "      <th>30</th>\n",
       "      <td>religion_buddhist</td>\n",
       "      <td>7.071865</td>\n",
       "    </tr>\n",
       "    <tr>\n",
       "      <th>38</th>\n",
       "      <td>g2018</td>\n",
       "      <td>6.238751</td>\n",
       "    </tr>\n",
       "    <tr>\n",
       "      <th>10</th>\n",
       "      <td>dnc_2022_malaise</td>\n",
       "      <td>6.146429</td>\n",
       "    </tr>\n",
       "    <tr>\n",
       "      <th>16</th>\n",
       "      <td>gun_control_persuasion_20</td>\n",
       "      <td>5.636330</td>\n",
       "    </tr>\n",
       "    <tr>\n",
       "      <th>35</th>\n",
       "      <td>g2020</td>\n",
       "      <td>5.545888</td>\n",
       "    </tr>\n",
       "    <tr>\n",
       "      <th>13</th>\n",
       "      <td>trump_check_persuasion_20</td>\n",
       "      <td>5.289191</td>\n",
       "    </tr>\n",
       "    <tr>\n",
       "      <th>34</th>\n",
       "      <td>g2022</td>\n",
       "      <td>4.934843</td>\n",
       "    </tr>\n",
       "    <tr>\n",
       "      <th>37</th>\n",
       "      <td>p2020_r</td>\n",
       "      <td>4.749104</td>\n",
       "    </tr>\n",
       "    <tr>\n",
       "      <th>45</th>\n",
       "      <td>p2012_r</td>\n",
       "      <td>4.727628</td>\n",
       "    </tr>\n",
       "    <tr>\n",
       "      <th>40</th>\n",
       "      <td>p2016_d</td>\n",
       "      <td>4.325708</td>\n",
       "    </tr>\n",
       "    <tr>\n",
       "      <th>21</th>\n",
       "      <td>eth_b</td>\n",
       "      <td>3.678350</td>\n",
       "    </tr>\n",
       "    <tr>\n",
       "      <th>15</th>\n",
       "      <td>trump_check_persuasion_24</td>\n",
       "      <td>3.394767</td>\n",
       "    </tr>\n",
       "    <tr>\n",
       "      <th>33</th>\n",
       "      <td>p2024_r</td>\n",
       "      <td>3.358391</td>\n",
       "    </tr>\n",
       "    <tr>\n",
       "      <th>25</th>\n",
       "      <td>religion_muslim</td>\n",
       "      <td>3.207219</td>\n",
       "    </tr>\n",
       "    <tr>\n",
       "      <th>32</th>\n",
       "      <td>p2024_d</td>\n",
       "      <td>3.194871</td>\n",
       "    </tr>\n",
       "    <tr>\n",
       "      <th>29</th>\n",
       "      <td>religion_latter_day_saint</td>\n",
       "      <td>3.019016</td>\n",
       "    </tr>\n",
       "    <tr>\n",
       "      <th>14</th>\n",
       "      <td>trump_check_persuasion_22</td>\n",
       "      <td>2.943960</td>\n",
       "    </tr>\n",
       "    <tr>\n",
       "      <th>17</th>\n",
       "      <td>gun_control_persuasion_22</td>\n",
       "      <td>2.907367</td>\n",
       "    </tr>\n",
       "    <tr>\n",
       "      <th>11</th>\n",
       "      <td>healthcare_costs_persuasion_22</td>\n",
       "      <td>2.871269</td>\n",
       "    </tr>\n",
       "    <tr>\n",
       "      <th>18</th>\n",
       "      <td>gun_control_persuasion_24</td>\n",
       "      <td>2.725864</td>\n",
       "    </tr>\n",
       "    <tr>\n",
       "      <th>12</th>\n",
       "      <td>healthcare_costs_persuasion_24</td>\n",
       "      <td>2.684817</td>\n",
       "    </tr>\n",
       "    <tr>\n",
       "      <th>19</th>\n",
       "      <td>abortion_persuasion_22</td>\n",
       "      <td>2.632393</td>\n",
       "    </tr>\n",
       "    <tr>\n",
       "      <th>44</th>\n",
       "      <td>p2012_d</td>\n",
       "      <td>2.553048</td>\n",
       "    </tr>\n",
       "    <tr>\n",
       "      <th>26</th>\n",
       "      <td>religion_jewish</td>\n",
       "      <td>2.491260</td>\n",
       "    </tr>\n",
       "    <tr>\n",
       "      <th>20</th>\n",
       "      <td>abortion_persuasion_24</td>\n",
       "      <td>2.182748</td>\n",
       "    </tr>\n",
       "    <tr>\n",
       "      <th>5</th>\n",
       "      <td>age_range</td>\n",
       "      <td>1.132506</td>\n",
       "    </tr>\n",
       "    <tr>\n",
       "      <th>22</th>\n",
       "      <td>eth_h</td>\n",
       "      <td>1.060174</td>\n",
       "    </tr>\n",
       "    <tr>\n",
       "      <th>3</th>\n",
       "      <td>Support_Score</td>\n",
       "      <td>1.051267</td>\n",
       "    </tr>\n",
       "    <tr>\n",
       "      <th>2</th>\n",
       "      <td>district</td>\n",
       "      <td>1.031757</td>\n",
       "    </tr>\n",
       "    <tr>\n",
       "      <th>6</th>\n",
       "      <td>college_degree</td>\n",
       "      <td>1.027033</td>\n",
       "    </tr>\n",
       "    <tr>\n",
       "      <th>4</th>\n",
       "      <td>gender</td>\n",
       "      <td>1.025158</td>\n",
       "    </tr>\n",
       "  </tbody>\n",
       "</table>\n",
       "</div>"
      ],
      "text/plain": [
       "                               feature          VIF\n",
       "0                                const  1097.983742\n",
       "9        deck_2022_state_house_support    14.822221\n",
       "23                               eth_a    12.421411\n",
       "31              religion_not_religious    10.534336\n",
       "42                               g2014    10.352646\n",
       "43                               g2012    10.333004\n",
       "1                            person_id    10.207422\n",
       "39                               g2016     9.427529\n",
       "41                             p2016_r     9.368675\n",
       "27                      religion_hindu     8.793280\n",
       "8   dnc_2018_downballot_defection_rank     8.680734\n",
       "28        religion_mainline_protestant     7.458260\n",
       "36                             p2020_d     7.407658\n",
       "24     religion_evangelical_protestant     7.406129\n",
       "7             dnc_2018_downballot_vote     7.180815\n",
       "30                   religion_buddhist     7.071865\n",
       "38                               g2018     6.238751\n",
       "10                    dnc_2022_malaise     6.146429\n",
       "16           gun_control_persuasion_20     5.636330\n",
       "35                               g2020     5.545888\n",
       "13           trump_check_persuasion_20     5.289191\n",
       "34                               g2022     4.934843\n",
       "37                             p2020_r     4.749104\n",
       "45                             p2012_r     4.727628\n",
       "40                             p2016_d     4.325708\n",
       "21                               eth_b     3.678350\n",
       "15           trump_check_persuasion_24     3.394767\n",
       "33                             p2024_r     3.358391\n",
       "25                     religion_muslim     3.207219\n",
       "32                             p2024_d     3.194871\n",
       "29           religion_latter_day_saint     3.019016\n",
       "14           trump_check_persuasion_22     2.943960\n",
       "17           gun_control_persuasion_22     2.907367\n",
       "11      healthcare_costs_persuasion_22     2.871269\n",
       "18           gun_control_persuasion_24     2.725864\n",
       "12      healthcare_costs_persuasion_24     2.684817\n",
       "19              abortion_persuasion_22     2.632393\n",
       "44                             p2012_d     2.553048\n",
       "26                     religion_jewish     2.491260\n",
       "20              abortion_persuasion_24     2.182748\n",
       "5                            age_range     1.132506\n",
       "22                               eth_h     1.060174\n",
       "3                        Support_Score     1.051267\n",
       "2                             district     1.031757\n",
       "6                       college_degree     1.027033\n",
       "4                               gender     1.025158"
      ]
     },
     "execution_count": 74,
     "metadata": {},
     "output_type": "execute_result"
    }
   ],
   "source": [
    "X = add_constant(X)\n",
    "vif_train = pd.DataFrame()\n",
    "vif_train[\"feature\"] = X.columns\n",
    "\n",
    "# calculating VIF for each feature\n",
    "vif_train[\"VIF\"] = [variance_inflation_factor(X.values, i)\n",
    "                          for i in range(len(X.columns))]\n",
    "\n",
    "vif_train = vif_train.sort_values(by = 'VIF', ascending = False)\n",
    "vif_train"
   ]
  },
  {
   "cell_type": "markdown",
   "metadata": {},
   "source": [
    "In hindsight, I would remove features, such as 'eth_a' and 'g2014', as well."
   ]
  },
  {
   "cell_type": "markdown",
   "metadata": {},
   "source": [
    "# Baseline (DNC)"
   ]
  },
  {
   "cell_type": "code",
   "execution_count": 75,
   "metadata": {},
   "outputs": [
    {
     "name": "stdout",
     "output_type": "stream",
     "text": [
      "y_pred_binarized shape: (844, 3)\n"
     ]
    }
   ],
   "source": [
    "label_binarizer = LabelBinarizer()\n",
    "y_train_binarized = label_binarizer.fit(y_train)\n",
    "y_onehot_test = label_binarizer.transform(y_test)\n",
    "y_onehot_test.shape  # (n_samples, n_classes)\n",
    "label_binarizer.transform([1.0])\n",
    "class_of_interest = 1.0\n",
    "class_id = np.flatnonzero(label_binarizer.classes_ == class_of_interest)[0]\n",
    "\n",
    "y_pred_probs = X_test['Support_Score']\n",
    "y_pred = [1 if prob > 0.7 else 0.5 if 0.4 <= prob <= 0.7 else 0 for prob in y_pred_probs]\n",
    "y_pred = np.array(y_pred)\n",
    "y_pred = y_pred.reshape(-1, 1)\n",
    "y_pred = encoder.fit_transform(y_pred)\n",
    "y_pred_onehot = label_binarizer.transform(y_pred)\n",
    "print(f\"y_pred_binarized shape: {y_pred_onehot.shape}\")"
   ]
  },
  {
   "cell_type": "code",
   "execution_count": 76,
   "metadata": {},
   "outputs": [],
   "source": [
    "n_classes = len(np.unique(y_onehot_test))\n",
    "y = pd.DataFrame(y)\n",
    "target_names = y.columns\n",
    "\n",
    "#  store the fpr, tpr, and roc_auc for all averaging strategies\n",
    "fpr, tpr, roc_auc = dict(), dict(), dict()\n",
    "# Compute micro-average ROC curve and ROC area\n",
    "fpr[\"micro\"], tpr[\"micro\"], _ = roc_curve(y_onehot_test.ravel(), y_pred_onehot.ravel())\n",
    "roc_auc[\"micro\"] = auc(fpr[\"micro\"], tpr[\"micro\"])\n",
    "\n",
    "for i in range(n_classes):\n",
    "    fpr[i], tpr[i], _ = roc_curve(y_onehot_test[:, i], y_pred_onehot[:, i])\n",
    "    roc_auc[i] = auc(fpr[i], tpr[i])\n",
    "\n",
    "fpr_grid = np.linspace(0.0, 1.0, 1000)\n",
    "\n",
    "# Interpolate all ROC curves at these points\n",
    "mean_tpr = np.zeros_like(fpr_grid)\n",
    "\n",
    "for i in range(n_classes):\n",
    "    mean_tpr += np.interp(fpr_grid, fpr[i], tpr[i])  # linear interpolation\n",
    "\n",
    "# Average it and compute AUC\n",
    "mean_tpr /= n_classes\n",
    "\n",
    "fpr[\"macro\"] = fpr_grid\n",
    "tpr[\"macro\"] = mean_tpr\n",
    "roc_auc[\"macro\"] = auc(fpr[\"macro\"], tpr[\"macro\"])"
   ]
  },
  {
   "cell_type": "code",
   "execution_count": 77,
   "metadata": {},
   "outputs": [
    {
     "name": "stdout",
     "output_type": "stream",
     "text": [
      "DNC Metrics:\n",
      "ROC AUC Score: 0.7101\n",
      "MAE: 0.1864\n",
      "MSE: 0.1864\n",
      "R-squared (R2 Score): -0.1482\n"
     ]
    },
    {
     "data": {
      "image/png": "[encoded data removed]",
      "text/plain": [
       "<Figure size 600x600 with 1 Axes>"
      ]
     },
     "metadata": {},
     "output_type": "display_data"
    }
   ],
   "source": [
    "print('DNC Metrics:')\n",
    "print(f\"ROC AUC Score: {roc_auc_score(y_test, y_pred_onehot):.4f}\")\n",
    "print(f\"MAE: {mean_absolute_error(y_test, y_pred_onehot):.4f}\")\n",
    "print(f\"MSE: {mean_squared_error(y_test, y_pred_onehot):.4f}\")\n",
    "print(f\"R-squared (R2 Score): {r2_score(y_test, y_pred_onehot):.4f}\")\n",
    "\n",
    "#\n",
    "fig, ax = plt.subplots(figsize=(6, 6))\n",
    "plt.plot(\n",
    "    fpr[\"micro\"],\n",
    "    tpr[\"micro\"],\n",
    "    label=f\"micro-average ROC curve (AUC = {roc_auc['micro']:.2f})\",\n",
    "    color=\"deeppink\",\n",
    "    linestyle=\":\",\n",
    "    linewidth=4,\n",
    ")\n",
    "\n",
    "plt.plot(\n",
    "    fpr[\"macro\"],\n",
    "    tpr[\"macro\"],\n",
    "    label=f\"macro-average ROC curve (AUC = {roc_auc['macro']:.2f})\",\n",
    "    color=\"navy\",\n",
    "    linestyle=\":\",\n",
    "    linewidth=4,\n",
    ")\n",
    "\n",
    "colors = [\"aqua\", \"darkorange\", \"cornflowerblue\"]\n",
    "for class_id, color in zip(range(n_classes), colors):\n",
    "    RocCurveDisplay.from_predictions(\n",
    "        y_onehot_test[:, class_id],\n",
    "        y_pred_onehot[:, class_id],\n",
    "        name=f\"ROC curve for {target_names[class_id]}\",\n",
    "        color=color,\n",
    "        ax=ax,\n",
    "        # plot_chance_level=(class_id == 2),\n",
    "    )\n",
    "\n",
    "_ = ax.set(\n",
    "    xlabel=\"False Positive Rate\",\n",
    "    ylabel=\"True Positive Rate\",\n",
    "    title=\"Extension of Receiver Operating Characteristic\\nto One-vs-Rest multiclass\",\n",
    ")"
   ]
  },
  {
   "cell_type": "code",
   "execution_count": 78,
   "metadata": {},
   "outputs": [],
   "source": [
    "kde_df = sample[['person_id', 'Support_Score']] #support score here refers to the DNC support score, we will be adding to predictions for each model below to this dataframe"
   ]
  },
  {
   "cell_type": "markdown",
   "metadata": {},
   "source": [
    "# Ensemble Modeling"
   ]
  },
  {
   "cell_type": "markdown",
   "metadata": {},
   "source": [
    "## Lasso"
   ]
  },
  {
   "cell_type": "code",
   "execution_count": 79,
   "metadata": {},
   "outputs": [],
   "source": [
    "scaler = StandardScaler()\n",
    "X_train_scaled = scaler.fit_transform(X_train)\n",
    "X_train_scaled = pd.DataFrame(X_train_scaled, columns = X_train.columns)\n",
    "X_test_scaled = scaler.transform(X_test)\n",
    "X_test_scaled = pd.DataFrame(X_test_scaled, columns = X_test.columns)"
   ]
  },
  {
   "cell_type": "code",
   "execution_count": 80,
   "metadata": {},
   "outputs": [
    {
     "name": "stdout",
     "output_type": "stream",
     "text": [
      "Best alpha: {'alpha': 100}\n",
      "R2 (train): 0.3215512208941322\n",
      "R2 (test): 0.3108998467387317\n",
      "\n",
      "MSE (train): 0.11872277012107117\n",
      "MSE (test): 0.12153881160877104\n"
     ]
    }
   ],
   "source": [
    "alphas = [0.01, 0.1, 1, 10, 100]\n",
    "\n",
    "# Create Ridge with cross-validation\n",
    "ridge_cv = GridSearchCV(Ridge(), param_grid={'alpha': alphas}, cv=100)\n",
    "ridge_cv.fit(X_train_scaled, y_train)\n",
    "\n",
    "# Best alpha\n",
    "print(\"Best alpha:\", ridge_cv.best_params_)\n",
    "ridge = Ridge(alpha=100)\n",
    "ridge.fit(X_train, y_train)\n",
    "y_train_ridge = ridge.predict(X_train)\n",
    "y_test_ridge = ridge.predict(X_test)\n",
    "\n",
    "print(\"R2 (train): \" + str(r2_score(y_train, y_train_ridge)))\n",
    "print(\"R2 (test): \" + str(r2_score(y_test, y_test_ridge))+ \"\\n\")\n",
    "\n",
    "print(\"MSE (train): \" + str(mean_squared_error(y_train, y_train_ridge)))\n",
    "print(\"MSE (test): \" + str(mean_squared_error(y_test, y_test_ridge)))"
   ]
  },
  {
   "cell_type": "code",
   "execution_count": 81,
   "metadata": {},
   "outputs": [
    {
     "name": "stdout",
     "output_type": "stream",
     "text": [
      "Best alpha:  0.01\n"
     ]
    }
   ],
   "source": [
    "alphas = [0.01, 0.1, 1, 10, 100]\n",
    "\n",
    "lasso = Lasso()\n",
    "lasso_cv = GridSearchCV(lasso, param_grid={'alpha': alphas}, cv=100)\n",
    "lasso_cv.fit(X_train, y_train)\n",
    "print(f\"Best alpha: \", lasso_cv.best_params_['alpha'])\n",
    "\n",
    "lasso_best = lasso_cv.best_estimator_\n",
    "\n",
    "# Display non-zero coefficients\n",
    "#coefficients = pd.Series(lasso_best.coef_, index=X_train.columns)\n",
    "#non_zero_coefficients = coefficients[coefficients != 0]\n",
    "#print(\"Non-zero coefficients:\\n\", non_zero_coefficients)\n",
    "\n",
    "# Evaluate performance on the test set\n",
    "y_test_pred_lasso = lasso_best.predict(X_test)\n",
    "\n",
    "# print('DNC Metrics:')\n",
    "#print(f\"ROC AUC Score: {roc_auc_score(y_test_pred_lasso, y_pred_onehot):.4f}\")\n",
    "#print(f\"MEA: {mean_absolute_error(y_test_pred_lasso, X_test['Support_Score']):.4f}\")\n",
    "#print(f\"MSE: {mean_squared_error(y_test_pred_lasso, X_test['Support_Score']):.4f}\")\n",
    "#print(f\"R-squared (R2 Score): {r2_score(y_test_pred_lasso, X_test['Support_Score']):.4f}\")\n",
    "\n",
    "# samp = sample.dropna()\n",
    "# kde = samp[['person_id', 'Support_Score']]\n",
    "# X_samp = X_sample.dropna()\n",
    "# y_pred_best = lasso_best.predict(X_samp)\n",
    "# kde['lasso'] = y_pred_best\n"
   ]
  },
  {
   "cell_type": "markdown",
   "metadata": {},
   "source": [
    "## XGBoost"
   ]
  },
  {
   "cell_type": "code",
   "execution_count": 82,
   "metadata": {},
   "outputs": [],
   "source": [
    "params = {\n",
    "    'objective': 'binary:logistic',  # Binary classification\n",
    "    'eval_metric': 'logloss',        # Logarithmic loss as evaluation metric\n",
    "    'learning_rate': 0.001,           # Lower learning rate with higher rounds\n",
    "    'max_depth': 4,                  # Max depth of trees, prevents overfitting\n",
    "    'min_child_weight': 14,           # Minimum sum of instance weight (hessian) needed in a child\n",
    "    'gamma': 0.1,                    # Regularization parameter for pruning\n",
    "    'subsample': 0.8,                # Percentage of training data used per tree\n",
    "    'colsample_bytree': 0.8,         # Percentage of features used per tree\n",
    "    'lambda': 0.01,                     # L2 regularization term\n",
    "    'alpha': 0.01,                      # L1 regularization term\n",
    "    'n_estimators': 10000,            # Number of boosting rounds\n",
    "    'seed': 42,                       # Seed for reproducibility\n",
    "}"
   ]
  },
  {
   "cell_type": "code",
   "execution_count": null,
   "metadata": {},
   "outputs": [],
   "source": [
    "xgb_model = xgb.XGBClassifier(**params)\n",
    "xgb_model.fit(X_train, y_train)\n",
    "\n",
    "y_pred_proba = xgb_model.predict_proba(X_test)[:, 1]  # Probabilities for the positive class (Democrat)\n",
    "\n",
    "print('Mon4rch Metrics: ')\n",
    "print(f\"ROC AUC Score: {roc_auc_score(y_test, y_pred_proba):.4f}\")\n",
    "#print(f\"Mean Absolute Error (MAE): {mean_absolute_error(y_test, y_pred_proba):.4f}\")\n",
    "print(f\"MSE: {mean_squared_error(y_test, y_pred_proba):.4f}\")\n",
    "#print(f\"R-squared (R2 Score): {r2_score(y_test, y_pred_proba):.4f}\")\n",
    "\n",
    "# Assuming y_pred is the predicted class (0 or 1), you might need to threshold your predicted probabilities\n",
    "y_pred = [1 if prob >= 0.5 else 0 for prob in y_pred_probs]\n",
    "\n",
    "# Calculate precision, recall, and F1 score\n",
    "print(f\"Precision: {precision_score(y_test, y_pred):.4f}\")\n",
    "print(f\"Recall: {recall_score(y_test, y_pred):.4f}\")\n",
    "print(f\"F1-Score: {f1_score(y_test, y_pred):.4f}\")\n",
    "\n",
    "# Calculate Log Loss (requires probabilities)\n",
    "print(f\"Log Loss: {log_loss(y_test, y_pred_probs):.4f}\")"
   ]
  },
  {
   "cell_type": "code",
   "execution_count": null,
   "metadata": {},
   "outputs": [],
   "source": [
    "y_pred_proba = xgb_model.predict_proba(sample)[:, 1]\n",
    "kde_df['xg'] = y_pred_proba"
   ]
  },
  {
   "cell_type": "markdown",
   "metadata": {},
   "source": [
    "## Neural Net"
   ]
  },
  {
   "cell_type": "code",
   "execution_count": null,
   "metadata": {},
   "outputs": [],
   "source": [
    "X = X.values\n",
    "y = y.values\n",
    "X = X.astype(np.float64)\n",
    "y = y.astype(np.float64)\n",
    "\n",
    "X_tensor = torch.from_numpy(X).float()\n",
    "y_tensor = torch.from_numpy(y).float()\n",
    "tensor_data = TensorDataset(X_tensor, y_tensor)\n",
    "dataloader = DataLoader(tensor_data, batch_size=64, shuffle=True)"
   ]
  },
  {
   "cell_type": "code",
   "execution_count": null,
   "metadata": {},
   "outputs": [],
   "source": [
    "class NeuralNet(nn.Module):\n",
    "    def __init__(self, input_size, hidden_size1, hidden_size2, hidden_size3, output_size):\n",
    "         super(NeuralNet, self).__init__()\n",
    "         self.fc1 = nn.Linear(input_size, hidden_size1)\n",
    "         self.relu1 = nn.ReLU()\n",
    "         self.dropout1 = nn.Dropout(p=0.2)\n",
    "         self.fc2 = nn.Linear(hidden_size1, hidden_size2)\n",
    "         self.relu2 = nn.ReLU()\n",
    "         self.dropout2 = nn.Dropout(p=0.2)\n",
    "         self.fc3 = nn.Linear(hidden_size2, hidden_size3)\n",
    "         self.relu3 = nn.ReLU()\n",
    "         self.fc4 = nn.Linear(hidden_size3, output_size)\n",
    "         self.softmax = nn.LogSoftmax()\n",
    "\n",
    "    def forward(self, x):\n",
    "        x = self.fc1(x)\n",
    "        x = self.relu1(x)\n",
    "        x = self.dropout1(x)\n",
    "        x = self.fc2(x)\n",
    "        x = self.relu2(x)\n",
    "        x = self.dropout2(x)\n",
    "        x = self.fc3(x)\n",
    "        x = self.relu3(x)\n",
    "        x = self.fc4(x)\n",
    "        x = self.softmax(x)\n",
    "\n",
    "        return x"
   ]
  },
  {
   "cell_type": "code",
   "execution_count": null,
   "metadata": {},
   "outputs": [],
   "source": [
    "model = NeuralNet(input_size = 24, hidden_size1= 512, hidden_size2=256, hidden_size3=64, output_size=1)\n",
    "criterion = nn.BCEWithLogitsLoss()\n",
    "optimizer = torch.optim.Adam(model.parameters(), lr=0.001, weight_decay=1e-5)"
   ]
  },
  {
   "cell_type": "code",
   "execution_count": null,
   "metadata": {},
   "outputs": [],
   "source": [
    "num_epochs = 300\n",
    "losses = []\n",
    "for epoch in range(num_epochs):\n",
    "    running_loss = 0.0\n",
    "    for inputs, targets in dataloader:\n",
    "        # Forward pass\n",
    "        outputs = model(inputs)\n",
    "        loss = criterion(outputs, targets)\n",
    "\n",
    "        # Backward pass and optimization\n",
    "        optimizer.zero_grad()\n",
    "        loss.backward()\n",
    "        optimizer.step()\n",
    "\n",
    "        running_loss += loss.item() * inputs.size(0) \n",
    "    \n",
    "    epoch_loss = running_loss / len(dataloader)\n",
    "    losses.append(epoch_loss)\n",
    "\n",
    "    print(f'Epoch {epoch+1}, Loss: {loss.item()}')\n",
    "\n",
    "#plot loss curve\n",
    "plt.figure(figsize=(10, 6))\n",
    "plt.plot(range(1, num_epochs + 1), losses, marker='o', linestyle='-', color='b')\n",
    "plt.title('Loss Curve')\n",
    "plt.xlabel('Epoch')\n",
    "plt.ylabel('Loss')\n",
    "plt.grid(True)\n",
    "plt.show()"
   ]
  },
  {
   "cell_type": "code",
   "execution_count": null,
   "metadata": {},
   "outputs": [],
   "source": [
    "model.eval()\n",
    "with torch.no_grad(): \n",
    "    predictions = model(X_tensor)"
   ]
  },
  {
   "cell_type": "markdown",
   "metadata": {},
   "source": [
    "## CatBoost Classifier"
   ]
  },
  {
   "cell_type": "code",
   "execution_count": null,
   "metadata": {},
   "outputs": [],
   "source": [
    "# hyper parameters\n",
    "cat_params = {\n",
    "    'loss_function': 'Logloss',\n",
    "    'eval_metric': 'Logloss',\n",
    "    'learning_rate': 0.001,\n",
    "    'depth': 4,                  # max_depth in trees\n",
    "    'l2_leaf_reg': 0.01,         # L2 regularization term\n",
    "    'random_seed': 42,\n",
    "    'iterations': 10000,\n",
    "    'subsample': 0.8,            # Percentage of data to use per tree\n",
    "    'colsample_bylevel': 0.8,\n",
    "    'min_data_in_leaf': 1,      # min_child_weight\n",
    "    'random_strength': 0.1,      # gamma\n",
    "    'border_count': 128,\n",
    "    'logging_level': 'Silent'\n",
    "}"
   ]
  },
  {
   "cell_type": "code",
   "execution_count": null,
   "metadata": {},
   "outputs": [],
   "source": [
    "cat_model = cb.CatBoostClassifier(**cat_params)\n",
    "cat_model.fit(X_train, y_train, eval_set=(X_test, y_test), use_best_model=True)\n",
    "\n",
    "# Predict probabilities\n",
    "y_pred_proba_cat = cat_model.predict_proba(X_test)[:, 1]\n",
    "\n",
    "# metrics\n",
    "print('Mon4rch Metrics: \\n')\n",
    "print(f\"ROC AUC Score: {roc_auc_score(y_test, y_pred_proba_cat):.4f}\")\n",
    "print(f\"MSE: {mean_squared_error(y_test, y_pred_proba_cat):.4f}\")\n",
    "print(f\"Log Loss: {log_loss(y_test, y_pred_proba_cat):.4f}\\n\")\n",
    "\n",
    "# scoring\n",
    "predict_proba_sample = cat_model.predict_proba(sample)[:, 1]\n",
    "sample['mon4rch_partisanship'] = predict_proba_sample\n",
    "sample = sample[['person_id', 'mon4rch_partisanship']]\n",
    "# append scores given to training set ?"
   ]
  },
  {
   "cell_type": "markdown",
   "metadata": {},
   "source": [
    "## HistGradientBoosting Classifier"
   ]
  },
  {
   "cell_type": "code",
   "execution_count": 84,
   "metadata": {},
   "outputs": [],
   "source": [
    "hgb_params = {\n",
    "    'loss_function': 'log_loss',\n",
    "    'learning_rate': 0.001,\n",
    "    'depth': 4,                  # max_depth in trees\n",
    "    'l2_regularization': 0.01,         # L2 regularization term\n",
    "    'random_seed': 42,\n",
    "    'iterations': 10000,\n",
    "    'subsample': 0.8,            # Percentage of data to use per tree\n",
    "    'colsample_bylevel': 0.8,\n",
    "    'min_data_in_leaf': 1,      # min_child_weight\n",
    "    'random_strength': 0.1,      # gamma\n",
    "    'border_count': 128,\n",
    "    'logging_level': 'Silent'\n",
    "}"
   ]
  },
  {
   "cell_type": "code",
   "execution_count": 85,
   "metadata": {},
   "outputs": [],
   "source": [
    "hgb = HistGradientBoostingClassifier(hgb_params)"
   ]
  },
  {
   "cell_type": "markdown",
   "metadata": {},
   "source": [
    "# Model Performance (Metrics)"
   ]
  },
  {
   "cell_type": "code",
   "execution_count": 86,
   "metadata": {},
   "outputs": [],
   "source": [
    "cat_preds = pd.read_csv(r\"C:\\Users\\shali\\OneDrive\\Documents\\TDP\\HD MODEL\\kde_9_27_1.csv\")"
   ]
  },
  {
   "cell_type": "markdown",
   "metadata": {},
   "source": [
    "## Correlation between Predicted Outputs and DNC support "
   ]
  },
  {
   "cell_type": "markdown",
   "metadata": {},
   "source": [
    "### KDE Plots (distributions excluding train_test set)"
   ]
  },
  {
   "cell_type": "code",
   "execution_count": null,
   "metadata": {},
   "outputs": [
    {
     "data": {
      "image/png": "[encoded data removed]",
      "text/plain": [
       "<Figure size 800x600 with 1 Axes>"
      ]
     },
     "metadata": {},
     "output_type": "display_data"
    }
   ],
   "source": [
    "plt.figure(figsize=(8, 6))\n",
    "\n",
    "sns.kdeplot(cat_preds['support'], label='DNC Support' )\n",
    "sns.kdeplot(cat_preds['xg'], label='xgboost preds')\n",
    "sns.kdeplot(cat_preds['cat'], label='catboost classifier preds')\n",
    "sns.kdeplot(cat_preds['weighted'], label='weighted preds')\n",
    "#sns.kdeplot(cat_preds['stack'], label='stackeing classifier preds')\n",
    "\n",
    "plt.title('DNC Support v Mon4rch')\n",
    "plt.xlabel('Value')\n",
    "plt.ylabel('Density')\n",
    "plt.legend()\n",
    "plt.show()"
   ]
  },
  {
   "cell_type": "code",
   "execution_count": null,
   "metadata": {},
   "outputs": [
    {
     "name": "stdout",
     "output_type": "stream",
     "text": [
      "Kendall's Correlation Coefficient (CatBoost Classifier): 0.8467027757001173\n",
      "Kendall's Correlation Coefficient (weighted): 0.8562992320466544\n",
      "Kendall's Correlation Coefficient (stacking regressor): 0.8377933575392078\n"
     ]
    }
   ],
   "source": [
    "cat_kendall_corr = cat_preds['support'].corr(cat_preds['cat'], method='kendall')\n",
    "print(f\"Kendall's Correlation Coefficient (CatBoost Classifier): {cat_kendall_corr}\")\n",
    "weighted_kendall_corr = cat_preds['support'].corr(cat_preds['weighted'], method='kendall')\n",
    "print(f\"Kendall's Correlation Coefficient (weighted): {weighted_kendall_corr}\")\n",
    "stack_kendall_corr = cat_preds['support'].corr(cat_preds['stack'], method='kendall')\n",
    "print(f\"Kendall's Correlation Coefficient (stacking regressor): {stack_kendall_corr}\")"
   ]
  },
  {
   "cell_type": "markdown",
   "metadata": {},
   "source": []
  },
  {
   "cell_type": "markdown",
   "metadata": {},
   "source": [
    "### ROC AUC Curve (training set)"
   ]
  },
  {
   "cell_type": "code",
   "execution_count": null,
   "metadata": {},
   "outputs": [],
   "source": [
    "# Compute ROC curve and ROC area for support\n",
    "fpr_support, tpr_support, _ = roc_curve(y_test, support_probs)\n",
    "roc_auc_support = auc(fpr_support, tpr_support)\n",
    "\n",
    "# Compute ROC curve and ROC area for xg\n",
    "fpr_xg, tpr_xg, _ = roc_curve(y_test, xg_probs)\n",
    "roc_auc_xg = auc(fpr_xg, tpr_xg)\n",
    "\n",
    "# Plotting the ROC curve\n",
    "plt.figure(figsize=(10, 6))\n",
    "plt.plot(fpr_support, tpr_support, color='blue', label=f'DNC (AUC = {roc_auc_support:.2f})')\n",
    "plt.plot(fpr_xg, tpr_xg, color='orange', label=f'Mon4rch (AUC = {roc_auc_xg:.2f})')\n",
    "plt.plot([0, 1], [0, 1], color='black', linestyle='--')  # Diagonal line\n",
    "plt.title('ROC Curve')\n",
    "plt.xlabel('False Positive Rate')\n",
    "plt.ylabel('True Positive Rate')\n",
    "plt.legend(loc='lower right')\n",
    "plt.grid()\n",
    "plt.show()"
   ]
  },
  {
   "cell_type": "markdown",
   "metadata": {},
   "source": [
    "### Calibration Curve (training set)"
   ]
  },
  {
   "cell_type": "code",
   "execution_count": null,
   "metadata": {},
   "outputs": [],
   "source": [
    "disp = CalibrationDisplay.from_predictions(y_test, y_pred_best)\n",
    "plt.show()\n",
    "\n",
    "support_fraction, support_mean_prob = calibration_curve(y_test, support_probs, n_bins=10)\n",
    "xg_fraction, xg_mean_prob = calibration_curve(y_test, xg_probs, n_bins=10)\n",
    "\n",
    "# Plotting the calibration curve\n",
    "plt.figure(figsize=(10, 6))\n",
    "plt.plot(support_mean_prob, support_fraction, marker='o', label='DNC')\n",
    "plt.plot(xg_mean_prob, xg_fraction, marker='o', label='Mon4rch')\n",
    "plt.plot([0, 1], [0, 1], linestyle='--', color='black')  # Perfectly calibrated line\n",
    "plt.title('Calibration Curve')\n",
    "plt.xlabel('Score')\n",
    "plt.ylabel('Fraction of Positives')\n",
    "plt.legend(loc='best')\n",
    "plt.grid()\n",
    "plt.show()"
   ]
  },
  {
   "cell_type": "markdown",
   "metadata": {},
   "source": [
    "# Analysis (Post-Election Results)"
   ]
  },
  {
   "cell_type": "code",
   "execution_count": 132,
   "metadata": {},
   "outputs": [],
   "source": [
    "model_comparisons = pd.read_csv(\"model_comparisons_target_hd_2024_MOST_RECENT.csv\")"
   ]
  },
  {
   "cell_type": "code",
   "execution_count": 134,
   "metadata": {},
   "outputs": [
    {
     "data": {
      "text/plain": [
       "<matplotlib.legend.Legend at 0x2be1fac2748>"
      ]
     },
     "execution_count": 134,
     "metadata": {},
     "output_type": "execute_result"
    },
    {
     "data": {
      "image/png": "[encoded data removed]",
      "text/plain": [
       "<Figure size 640x480 with 1 Axes>"
      ]
     },
     "metadata": {},
     "output_type": "display_data"
    }
   ],
   "source": [
    "v4_incl_prior_hist = pd.read_csv(r\"C:\\Users\\shali\\OneDrive\\Documents\\TDP\\Post-Election Analysis\\mon4rch support analysis\\v4_incl_prior_hist.csv\")\n",
    "\n",
    "v4_2024 = v4_incl_prior_hist['tdp_24_support_v4']\n",
    "v3_2022 = v4_incl_prior_hist['tdp_22_support_v3']\n",
    "v2_2020 = v4_incl_prior_hist['tdp_20_support_v2']\n",
    "\n",
    "cmap = plt.get_cmap('tab20b', 3)\n",
    "plt.hist([ v2_2020, v3_2022, v4_2024], bins = 10, label=['TDP_v2_2020', 'TDP_v3_2022', 'TDP_v4_2024'], color=[cmap(i) for i in range(3)], align= 'left', rwidth= 0.7)\n",
    "plt.xticks(np.arange(0, 1, 0.1), labels= ['[0, .1)', '[.1, .2)', '[.2, .3)', '[.3, .4)', '[.4, .5)', '[.5, .6)', '[.6, .7)', '[.7, .8)', '[.8, .9)', '[.9, 1]'])\n",
    "plt.legend(loc='upper center')"
   ]
  },
  {
   "cell_type": "markdown",
   "metadata": {},
   "source": [
    "## Mapping Differences in Model Performance"
   ]
  },
  {
   "cell_type": "code",
   "execution_count": 123,
   "metadata": {},
   "outputs": [],
   "source": [
    "# Load 2020 and 2022 Precinct Level Results \n",
    "v2_results = pd.read_csv(r\"C:\\Users\\shali\\OneDrive\\Documents\\TDP\\Post-Election Analysis\\mon4rch support analysis\\2020 HD D votes (model estimates v actual).csv\")\n",
    "v3_results = pd.read_csv(r\"C:\\Users\\shali\\OneDrive\\Documents\\TDP\\Post-Election Analysis\\mon4rch support analysis\\2022 HD D votes (model estimates v actual).csv\")\n",
    "v2_results['pct_error_tdp'] = (v2_results['tdp_20_est_D_votes'] - v2_results['act_20_D_votes'])/(v2_results['act_20_D_votes'])*100\n",
    "v2_results['pct_error_dnc'] = (v2_results['dnc_20_est_D_votes'] - v2_results['act_20_D_votes'])/(v2_results['act_20_D_votes'])*100\n",
    "\n",
    "v3_results['pct_error_tdp']  = (v3_results['tdp_22_est_D_votes'] - v3_results['act_22_D_votes'])/(v3_results['act_22_D_votes'])*100\n",
    "v3_results['pct_error_dnc']  = (v3_results['dnc_22_est_D_votes'] - v3_results['act_22_D_votes'])/(v3_results['act_22_D_votes'])*100 \n",
    "v2_results = v2_results.rename(columns={'HD_2020': 'HD', 'precinct_2020': 'precinct'})\n",
    "v3_results = v3_results.rename(columns={'HD_2022': 'HD', 'precinct_2022': 'precinct'})\n",
    "\n",
    "v2_v3_diff = pd.merge(v2_results, v3_results, how = 'left', on = ['HD', 'precinct'],  suffixes=('_20', '_22'))\n",
    "\n",
    "# Load Precinct Shapefiles for HDs\n",
    "hd_precincts = pd.read_json( r\"C:\\Users\\shali\\OneDrive\\Documents\\TDP\\Post-Election Analysis\\mon4rch support analysis\\hd precincts.json\" )\n",
    "hd_precincts_2 = pd.read_json(r\"C:\\Users\\shali\\OneDrive\\Documents\\TDP\\Post-Election Analysis\\mon4rch support analysis\\hd precincts 2.json\" )\n",
    "\n",
    "hd_precincts = pd.concat([hd_precincts, hd_precincts_2])\n",
    "hd_precincts['geography'] = hd_precincts['geography'].apply(wkt.loads)\n",
    "hd_precincts = hd_precincts.dropna()\n",
    "hd_precincts = hd_precincts.rename(columns={'state_house_district': 'HD', 'van_precinct_id': 'precinct'})\n",
    "hd_precincts = pd.merge(v2_v3_diff, hd_precincts, how = 'left', on = ['HD', 'precinct'])"
   ]
  },
  {
   "cell_type": "code",
   "execution_count": null,
   "metadata": {},
   "outputs": [
    {
     "data": {
      "text/plain": [
       "<AxesSubplot:title={'center':'Texas Precincts with State House Districts Overlay'}, xlabel='Longitude', ylabel='Latitude'>"
      ]
     },
     "execution_count": 124,
     "metadata": {},
     "output_type": "execute_result"
    },
    {
     "data": {
      "image/png": "[encoded data removed]",
      "text/plain": [
       "<Figure size 1000x1000 with 2 Axes>"
      ]
     },
     "metadata": {},
     "output_type": "display_data"
    }
   ],
   "source": [
    "# Mapping precincts with difference in error rates between Earlier Iterations \n",
    "# Replicate once 2024 Precinct Level Results are available\n",
    "hd_precincts_geo = gpd.GeoDataFrame(hd_precincts, geometry='geography')\n",
    "\n",
    "hd_precincts_geo['v2_v3_diff'] = (hd_precincts_geo['pct_error_tdp_22'] - hd_precincts_geo['pct_error_dnc_22'])\n",
    "hd_precincts = hd_precincts_geo.plot(figsize= (10, 10), column = 'v2_v3_diff', k = 10, cmap = 'PuRd', legend = True)\n"
   ]
  },
  {
   "cell_type": "code",
   "execution_count": 136,
   "metadata": {},
   "outputs": [
    {
     "ename": "ValueError",
     "evalue": "DataFrame constructor not properly called!",
     "output_type": "error",
     "traceback": [
      "\u001b[1;31m---------------------------------------------------------------------------\u001b[0m",
      "\u001b[1;31mValueError\u001b[0m                                Traceback (most recent call last)",
      "\u001b[1;32m~\\AppData\\Local\\Temp\\ipykernel_15376\\930511589.py\u001b[0m in \u001b[0;36m<module>\u001b[1;34m\u001b[0m\n\u001b[0;32m      1\u001b[0m \u001b[1;31m# Load datasets\u001b[0m\u001b[1;33m\u001b[0m\u001b[1;33m\u001b[0m\u001b[1;33m\u001b[0m\u001b[0m\n\u001b[1;32m----> 2\u001b[1;33m \u001b[0mhd_precincts_geo\u001b[0m \u001b[1;33m=\u001b[0m \u001b[0mgpd\u001b[0m\u001b[1;33m.\u001b[0m\u001b[0mGeoDataFrame\u001b[0m\u001b[1;33m(\u001b[0m\u001b[0mhd_precincts\u001b[0m\u001b[1;33m,\u001b[0m \u001b[0mgeometry\u001b[0m\u001b[1;33m=\u001b[0m\u001b[1;34m'geography'\u001b[0m\u001b[1;33m)\u001b[0m\u001b[1;33m\u001b[0m\u001b[1;33m\u001b[0m\u001b[0m\n\u001b[0m\u001b[0;32m      3\u001b[0m \u001b[0mHDmap\u001b[0m \u001b[1;33m=\u001b[0m \u001b[0mgpd\u001b[0m\u001b[1;33m.\u001b[0m\u001b[0mread_file\u001b[0m\u001b[1;33m(\u001b[0m\u001b[1;34mr\"C:\\Users\\shali\\OneDrive\\Documents\\TDP\\HD MODEL\\Texas_State_House_Districts_89th_2025_2027.shp\"\u001b[0m\u001b[1;33m)\u001b[0m\u001b[1;33m\u001b[0m\u001b[1;33m\u001b[0m\u001b[0m\n\u001b[0;32m      4\u001b[0m \u001b[1;33m\u001b[0m\u001b[0m\n\u001b[0;32m      5\u001b[0m \u001b[1;31m# Ensure both GeoDataFrames have a CRS\u001b[0m\u001b[1;33m\u001b[0m\u001b[1;33m\u001b[0m\u001b[1;33m\u001b[0m\u001b[0m\n",
      "\u001b[1;32mc:\\Users\\shali\\.conda\\envs\\tf-gpu-cuda9\\lib\\site-packages\\geopandas\\geodataframe.py\u001b[0m in \u001b[0;36m__init__\u001b[1;34m(self, data, geometry, crs, *args, **kwargs)\u001b[0m\n\u001b[0;32m    120\u001b[0m     \u001b[1;32mdef\u001b[0m \u001b[0m__init__\u001b[0m\u001b[1;33m(\u001b[0m\u001b[0mself\u001b[0m\u001b[1;33m,\u001b[0m \u001b[0mdata\u001b[0m\u001b[1;33m=\u001b[0m\u001b[1;32mNone\u001b[0m\u001b[1;33m,\u001b[0m \u001b[1;33m*\u001b[0m\u001b[0margs\u001b[0m\u001b[1;33m,\u001b[0m \u001b[0mgeometry\u001b[0m\u001b[1;33m=\u001b[0m\u001b[1;32mNone\u001b[0m\u001b[1;33m,\u001b[0m \u001b[0mcrs\u001b[0m\u001b[1;33m=\u001b[0m\u001b[1;32mNone\u001b[0m\u001b[1;33m,\u001b[0m \u001b[1;33m**\u001b[0m\u001b[0mkwargs\u001b[0m\u001b[1;33m)\u001b[0m\u001b[1;33m:\u001b[0m\u001b[1;33m\u001b[0m\u001b[1;33m\u001b[0m\u001b[0m\n\u001b[0;32m    121\u001b[0m         \u001b[1;32mwith\u001b[0m \u001b[0mcompat\u001b[0m\u001b[1;33m.\u001b[0m\u001b[0mignore_shapely2_warnings\u001b[0m\u001b[1;33m(\u001b[0m\u001b[1;33m)\u001b[0m\u001b[1;33m:\u001b[0m\u001b[1;33m\u001b[0m\u001b[1;33m\u001b[0m\u001b[0m\n\u001b[1;32m--> 122\u001b[1;33m             \u001b[0msuper\u001b[0m\u001b[1;33m(\u001b[0m\u001b[1;33m)\u001b[0m\u001b[1;33m.\u001b[0m\u001b[0m__init__\u001b[0m\u001b[1;33m(\u001b[0m\u001b[0mdata\u001b[0m\u001b[1;33m,\u001b[0m \u001b[1;33m*\u001b[0m\u001b[0margs\u001b[0m\u001b[1;33m,\u001b[0m \u001b[1;33m**\u001b[0m\u001b[0mkwargs\u001b[0m\u001b[1;33m)\u001b[0m\u001b[1;33m\u001b[0m\u001b[1;33m\u001b[0m\u001b[0m\n\u001b[0m\u001b[0;32m    123\u001b[0m \u001b[1;33m\u001b[0m\u001b[0m\n\u001b[0;32m    124\u001b[0m         \u001b[1;31m# need to set this before calling self['geometry'], because\u001b[0m\u001b[1;33m\u001b[0m\u001b[1;33m\u001b[0m\u001b[1;33m\u001b[0m\u001b[0m\n",
      "\u001b[1;32mc:\\Users\\shali\\.conda\\envs\\tf-gpu-cuda9\\lib\\site-packages\\pandas\\core\\frame.py\u001b[0m in \u001b[0;36m__init__\u001b[1;34m(self, data, index, columns, dtype, copy)\u001b[0m\n\u001b[0;32m    728\u001b[0m         \u001b[1;32melse\u001b[0m\u001b[1;33m:\u001b[0m\u001b[1;33m\u001b[0m\u001b[1;33m\u001b[0m\u001b[0m\n\u001b[0;32m    729\u001b[0m             \u001b[1;32mif\u001b[0m \u001b[0mindex\u001b[0m \u001b[1;32mis\u001b[0m \u001b[1;32mNone\u001b[0m \u001b[1;32mor\u001b[0m \u001b[0mcolumns\u001b[0m \u001b[1;32mis\u001b[0m \u001b[1;32mNone\u001b[0m\u001b[1;33m:\u001b[0m\u001b[1;33m\u001b[0m\u001b[1;33m\u001b[0m\u001b[0m\n\u001b[1;32m--> 730\u001b[1;33m                 \u001b[1;32mraise\u001b[0m \u001b[0mValueError\u001b[0m\u001b[1;33m(\u001b[0m\u001b[1;34m\"DataFrame constructor not properly called!\"\u001b[0m\u001b[1;33m)\u001b[0m\u001b[1;33m\u001b[0m\u001b[1;33m\u001b[0m\u001b[0m\n\u001b[0m\u001b[0;32m    731\u001b[0m \u001b[1;33m\u001b[0m\u001b[0m\n\u001b[0;32m    732\u001b[0m             \u001b[1;31m# Argument 1 to \"ensure_index\" has incompatible type \"Collection[Any]\";\u001b[0m\u001b[1;33m\u001b[0m\u001b[1;33m\u001b[0m\u001b[1;33m\u001b[0m\u001b[0m\n",
      "\u001b[1;31mValueError\u001b[0m: DataFrame constructor not properly called!"
     ]
    }
   ],
   "source": [
    "# Load datasets\n",
    "hd_precincts_geo = gpd.GeoDataFrame(hd_precincts, geometry='geography')\n",
    "HDmap = gpd.read_file(r\"C:\\Users\\shali\\OneDrive\\Documents\\TDP\\HD MODEL\\Texas_State_House_Districts_89th_2025_2027.shp\")\n",
    "\n",
    "# Ensure both GeoDataFrames have a CRS\n",
    "if hd_precincts_geo.crs is None:\n",
    "    hd_precincts_geo.set_crs(epsg=4326, inplace=True)\n",
    "if HDmap.crs is None:\n",
    "    HDmap.set_crs(epsg=4326, inplace=True)\n",
    "\n",
    "# Reproject both to match CRS\n",
    "if hd_precincts_geo.crs != HDmap.crs:\n",
    "    HDmap = HDmap.to_crs(hd_precincts_geo.crs)\n",
    "\n",
    "# Ensure valid geometries\n",
    "hd_precincts_geo = hd_precincts_geo[hd_precincts_geo.is_valid]\n",
    "HDmap = HDmap[HDmap.is_valid]\n",
    "\n",
    "# Compute column\n",
    "hd_precincts_geo['v2_v3_diff'] = (\n",
    "    hd_precincts_geo['pct_error_tdp_22'] - hd_precincts_geo['pct_error_dnc_22']\n",
    ")\n",
    "\n",
    "# Plot\n",
    "fig, ax = plt.subplots(figsize=(10, 10))\n",
    "hd_precincts_geo.plot(\n",
    "    ax=ax, column='v2_v3_diff', cmap='PuRd',\n",
    "    scheme='quantiles', k=10, legend=True,\n",
    "    legend_kwds={'fmt': \"{:.2f}\"}, edgecolor='none'\n",
    ")\n",
    "HDmap.plot(ax=ax, color='none', edgecolor='black', linewidth=0.5, alpha=0.5)\n",
    "\n",
    "plt.title('Texas Precincts with State House Districts Overlay')\n",
    "plt.show()"
   ]
  },
  {
   "cell_type": "markdown",
   "metadata": {},
   "source": [
    "## Control Group Analysis"
   ]
  },
  {
   "cell_type": "code",
   "execution_count": null,
   "metadata": {},
   "outputs": [
    {
     "data": {
      "text/plain": [
       "W    60.256538\n",
       "H    25.362676\n",
       "B     7.696024\n",
       "A     4.833874\n",
       "N     0.003847\n",
       "Name: ethnicity_combined, dtype: float64"
      ]
     },
     "execution_count": 49,
     "metadata": {},
     "output_type": "execute_result"
    }
   ],
   "source": [
    "QUERY_control_effect_mon4rch = \"\"\"\n",
    "CREATE OR REPLACE TABLE `demstxsp.mon4rch_2024.mon4rch_hd_control` AS \n",
    "WITH full_df AS (\n",
    "SELECT \n",
    "  person_id, \n",
    "  district, \n",
    "  voted, \n",
    "  positive_id, \n",
    "  contact_type_name, \n",
    "  result_name,\n",
    "  control, \n",
    "  coordinated_target\n",
    "FROM `demstxsp.mon4rch_2024.hd_contacts`\n",
    "), \n",
    "\n",
    "control_voted AS (\n",
    "SELECT \n",
    "  district, \n",
    "  (CASE WHEN control = 1 AND voted = 1 THEN COUNT(person_id) END) AS control_voted,\n",
    "FROM full_df\n",
    "GROUP BY district, control, voted\n",
    "), \n",
    "\n",
    "control_no_vote AS (\n",
    "SELECT \n",
    "  district, \n",
    "  (CASE WHEN control = 1 AND voted = 0 THEN COUNT(person_id) END) AS control_no_vote,\n",
    "FROM full_df\n",
    "GROUP BY district, control, voted\n",
    "), \n",
    "\n",
    "no_control_voted AS (\n",
    "SELECT \n",
    "  district, \n",
    "  (CASE WHEN control = 0 AND voted = 1 THEN COUNT(person_id) END) AS no_control_voted,\n",
    "FROM full_df\n",
    "GROUP BY district, control, voted\n",
    "), \n",
    "\n",
    "no_control_no_vote AS (\n",
    "SELECT \n",
    "  district, \n",
    "  (CASE WHEN control = 0 AND voted = 0 THEN COUNT(person_id) END) AS no_control_no_vote, \n",
    "FROM full_df\n",
    "GROUP BY district, control, voted\n",
    "),\n",
    "\n",
    "hd_control AS (\n",
    "SELECT \n",
    "cv.*, \n",
    "cnv.control_no_vote, \n",
    "ROUND((cv.control_voted/(cnv.control_no_vote + cv.control_voted))*100, 2)  AS pct_voted_control,\n",
    "ncv.no_control_voted, \n",
    "ncnv.no_control_no_vote,\n",
    "ROUND((ncv.no_control_voted/(ncnv.no_control_no_vote + ncv.no_control_voted))*100, 2) AS pct_voted_targeted,\n",
    "FROM control_voted AS cv\n",
    "LEFT JOIN control_no_vote AS cnv ON cv.district=cnv.district\n",
    "LEFT JOIN no_control_voted AS ncv ON cv.district=ncv.district\n",
    "LEFT JOIN no_control_no_vote AS ncnv ON cv.district=ncnv.district\n",
    "WHERE \n",
    "cv.control_voted IS NOT NULL AND \n",
    "cnv.control_no_vote IS NOT NULL AND \n",
    "ncv.no_control_voted IS NOT NULL AND \n",
    "ncnv.no_control_no_vote IS NOT NULL\n",
    ")\n",
    "\n",
    "SELECT \n",
    "  *, \n",
    "  ROUND(pct_voted_targeted - pct_voted_control, 2) AS hd_control_turnout_deficit\n",
    "FROM hd_control\n",
    "ORDER BY hd_control_turnout_deficit ASC\n",
    "\"\"\"\n",
    "\n",
    "control_contacts = pd.read_csv(r\"C:\\Users\\shali\\OneDrive\\Documents\\TDP\\Post-Election Analysis\\mon4rch support analysis\\hd_contacts_control_data.csv\")\n",
    "\n",
    "control_contacts['ethnicity_combined'].value_counts() / control_contacts.shape[0] * 100"
   ]
  },
  {
   "cell_type": "markdown",
   "metadata": {},
   "source": [
    "## Summary of HD Model Performance"
   ]
  },
  {
   "cell_type": "code",
   "execution_count": null,
   "metadata": {},
   "outputs": [],
   "source": [
    "QUERY_target_hd_history = \"\"\"\n",
    "CREATE OR REPLACE TABLE `demstxsp.tdp_partisanship_modeling.target_hd_history` AS \n",
    "WITH model_24 AS (\n",
    "SELECT    \n",
    "  CAST(LTRIM(hd_24 ,'0')AS INT64) AS HD, \n",
    "  ROUND(SUM(tdp_24_support_v4)) AS tdp_24_est_D_votes, \n",
    "  ROUND(SUM(dnc_24_support)) AS dnc_24_est_D_votes, \n",
    "FROM `demstxsp.tdp_partisanship_modeling.tdp_tx_partisanship_score_v4_incl_prior_hist`\n",
    "WHERE vote_g_2024 = 1 AND hd_24 IN ('034','052', '054', '070', '074', '094', '096', '112', '118', '121', '138')\n",
    "GROUP BY hd_24\n",
    "), \n",
    "\n",
    "results_24 AS (\n",
    "SELECT\n",
    "  district AS HD,\n",
    "  D AS act_24_D_votes,\n",
    "  R AS R_votes_24, \n",
    "  L AS L_votes_24, \n",
    "  G AS G_votes_24, \n",
    "  Other AS W_votes_24, \n",
    "FROM `demstxsp.reporting.2024_general_districts_results`\n",
    "WHERE \n",
    "  district_type = 'HD'\n",
    "  AND CAST(district AS STRING) IN ('34','52', '54', '70', '74', '94', '96', '112', '118', '121', '138')\n",
    "),\n",
    "\n",
    "model_22 as (\n",
    "SELECT    \n",
    "  CAST(LTRIM(hd_22 ,'0')AS INT64) AS HD, \n",
    "  ROUND(SUM(tdp_22_support_v3)) AS tdp_22_est_D_votes, \n",
    "  ROUND(SUM(dnc_22_support)) AS dnc_22_est_D_votes, \n",
    "FROM `demstxsp.tdp_partisanship_modeling.tdp_tx_partisanship_score_v4_incl_prior_hist`\n",
    "WHERE vote_g_2022= 1 AND hd_22 IN ('034','052', '054', '070', '074', '094', '096', '112', '118', '121', '138')\n",
    "GROUP BY hd_22\n",
    "), \n",
    "\n",
    "results_22 AS (\n",
    "SELECT\n",
    "  CAST(race_number AS INT64) AS HD,\n",
    "  SUM(D_votes) AS act_22_D_votes,  \n",
    "FROM `demstxsp.historical_vtd_2022G.2022_state_house` AS hd22\n",
    "WHERE race_number IN ('34','52', '54', '70', '74', '94', '96', '112', '118', '121', '138')\n",
    "GROUP BY race_number\n",
    "), \n",
    "\n",
    "model_20 AS (\n",
    "SELECT  \n",
    "  CAST(LTRIM(hd_20 ,'0')AS INT64) AS HD, \n",
    "  ROUND(SUM(tdp_20_support_v2)) AS tdp_20_est_D_votes, \n",
    "  ROUND(SUM(dnc_20_support_v2)) AS dnc_20_est_D_votes, \n",
    "FROM `demstxsp.tdp_partisanship_modeling.tdp_tx_partisanship_score_v4_incl_prior_hist` AS v1\n",
    "WHERE vote_g_2020 = 1  \n",
    "  AND hd_20 IN ('034','052', '054', '070', '074', '094', '096', '112', '118', '121', '138')\n",
    "GROUP BY hd_20\n",
    "), \n",
    "\n",
    "results_20 AS (\n",
    "SELECT\n",
    "  CAST(race_number AS INT64) AS HD,\n",
    "  SUM(D_votes) AS act_20_D_votes,  \n",
    "FROM `demstxsp.historical_vtd_2022G.2020_state_house` AS hd20\n",
    "WHERE race_number IN ('34','52', '54', '70', '74', '94', '96', '112', '118', '121', '138')\n",
    "GROUP BY race_number\n",
    ")\n",
    "\n",
    "SELECT DISTINCT\n",
    "model_24.HD, \n",
    "act_24_D_votes,\n",
    "tdp_24_est_D_votes, \n",
    "dnc_24_est_D_votes, \n",
    "act_22_D_votes, \n",
    "tdp_22_est_D_votes, \n",
    "dnc_22_est_D_votes,\n",
    "act_20_D_votes,  \n",
    "tdp_20_est_D_votes, \n",
    "dnc_20_est_D_votes, \n",
    "FROM model_24 \n",
    "LEFT JOIN results_24 ON model_24.HD = results_24.HD\n",
    "LEFT JOIN model_22 ON model_24.HD = model_22.HD\n",
    "LEFT JOIN results_22 ON model_22.HD = results_22.HD\n",
    "LEFT JOIN model_20 ON model_24.HD = model_20.HD \n",
    "LEFT JOIN results_20 ON model_20.HD = results_20.HD\n",
    "ORDER BY HD ASC\n",
    "\"\"\""
   ]
  },
  {
   "cell_type": "code",
   "execution_count": null,
   "metadata": {},
   "outputs": [],
   "source": [
    "QUERY_model_comparisons_target_hd_2024 = \"\"\"\n",
    "CREATE OR REPLACE TABLE `demstxsp.mon4rch_2024.model_comparisons_target_hd_2024` AS \n",
    "WITH actual_dem_votes AS (\n",
    "SELECT \n",
    "HD, \n",
    "year, \n",
    "act_D_votes\n",
    "FROM `demstxsp.tdp_partisanship_modeling.target_hd_history`\n",
    "UNPIVOT (\n",
    "  act_D_votes FOR year IN (\n",
    "    act_20_D_votes AS '2020', act_22_D_votes AS '2022', act_24_D_votes AS '2024'))\n",
    "), \n",
    "\n",
    "tdp_est_votes AS (\n",
    "SELECT \n",
    "HD, \n",
    "year, \n",
    "tdp_est_D_votes\n",
    "FROM `demstxsp.tdp_partisanship_modeling.target_hd_history`\n",
    "UNPIVOT (\n",
    "  tdp_est_D_votes FOR year IN (\n",
    "    tdp_20_est_D_votes AS '2020', tdp_22_est_D_votes AS '2022', tdp_24_est_D_votes AS '2024'))\n",
    "), \n",
    "\n",
    "dnc_est_votes AS (\n",
    "SELECT \n",
    "HD, \n",
    "year, \n",
    "dnc_est_D_votes\n",
    "FROM `demstxsp.tdp_partisanship_modeling.target_hd_history`\n",
    "UNPIVOT (\n",
    "  dnc_est_D_votes FOR year IN (\n",
    "    dnc_20_est_D_votes AS '2020', dnc_22_est_D_votes AS '2022', dnc_24_est_D_votes AS '2024'))\n",
    ")\n",
    "\n",
    "SELECT \n",
    "act.*, \n",
    "tdp_est_D_votes, \n",
    "dnc_est_D_votes, \n",
    "ABS((act_D_votes-tdp_est_D_votes)/act_D_votes)*100 AS percent_error_tdp, \n",
    "ABS((act_D_votes-dnc_est_D_votes)/act_D_votes)*100 AS percent_error_dnc\n",
    "FROM actual_dem_votes AS act\n",
    "LEFT JOIN tdp_est_votes AS tdp ON (act.HD = tdp.HD AND act.year = tdp.year)\n",
    "LEFT JOIN dnc_est_votes AS dnc ON (act.HD = dnc.HD AND act.year = dnc.year)\n",
    "ORDER BY HD, year ASC\n",
    "\"\"\""
   ]
  },
  {
   "cell_type": "code",
   "execution_count": null,
   "metadata": {},
   "outputs": [
    {
     "data": {
      "image/png": "[encoded data removed]",
      "text/plain": [
       "<Figure size 1600x800 with 1 Axes>"
      ]
     },
     "metadata": {},
     "output_type": "display_data"
    }
   ],
   "source": [
    "years = [2020, 2022, 2024]\n",
    "hd_point_diff = {}\n",
    "for hd in model_comparisons['HD'].unique():\n",
    "    measurements = model_comparisons.loc[model_comparisons['HD'] == hd, ['year', 'point_difference']]\n",
    "    measurements_dict = dict(zip(measurements['year'], measurements['point_difference']))\n",
    "    hd_point_diff[f'HD {hd}'] = [measurements_dict.get(year, np.nan) for year in years]\n",
    "hd_point_diff_df = pd.DataFrame(hd_point_diff, index = years)\n",
    "\n",
    "x = np.arange(len(years))  # the label locations\n",
    "width = 0.1  # the width of the bars\n",
    "padding = 0.4  # the padding between groups\n",
    "multiplier = 0\n",
    "\n",
    "cmap = cm.get_cmap('tab20b', len(hd_point_diff))\n",
    "colors = [cmap(i) for i in range(len(hd_point_diff))]\n",
    "fig, ax = plt.subplots(figsize=(16, 8))\n",
    "\n",
    "for attribute, measurement in hd_point_diff.items():\n",
    "    color = colors[multiplier]\n",
    "    offset = width * multiplier + padding * (np.arange(len(years)) + multiplier // len(hd_point_diff))\n",
    "    rects = ax.bar(x + offset, measurement, width, label=attribute, color = color)\n",
    "    ax.bar_label(rects, padding=2, fmt='%.2f')\n",
    "    multiplier += 1\n",
    "\n",
    "# Add some text for labels, title and custom x-axis tick labels, etc.\n",
    "ax.set_title('Model Point Differences by Year and House District')\n",
    "ax.set_xticks([0.5, 1.9, 3.33])  \n",
    "ax.set_xticklabels(['2020 (TDP v2 - DNC)', '2022 (TDP v3 - DNC)', '2024 (TDP v4 - DNC)'])\n",
    "\n",
    "\n",
    "ax.set_ylim(-12, 8.5)\n",
    "ax.set_yticks(np.arange(-12, 8.5, 1))\n",
    "ax.set_ylabel('DNC-TDP Model Point Difference')\n",
    "\n",
    "ax.axhline(0, color='gray', linestyle='--', linewidth=1)\n",
    "ax.axvline(1.2, color='gray', linestyle='-', linewidth=1)\n",
    "ax.axvline(2.6, color='gray', linestyle='-', linewidth=1)\n",
    "ax.legend(loc='center left', bbox_to_anchor=(1, 0.5))\n",
    "plt.tight_layout()\n",
    "\n",
    "plt.show()"
   ]
  },
  {
   "cell_type": "markdown",
   "metadata": {},
   "source": [
    "The model outperformed the DNC's in 8 of 11 HDs. \n",
    "- On a county level the model outperformed the DNC's in 12 of 19 counties.\n",
    "\n",
    "Overall, it underperformed in State House Districts 54, 94, and 96. \n",
    "- Interestingly, despite outperforming the DNC in the HD 74 overall, the model displayed poor class separation in Jeff Davis and Val Verde counties in this district. \n",
    "\n",
    "The model underperfomed in HDs and Counties with a largely hispanic population. "
   ]
  }
 ],
 "metadata": {
  "kernelspec": {
   "display_name": "tf-gpu-cuda9",
   "language": "python",
   "name": "python3"
  },
  "language_info": {
   "codemirror_mode": {
    "name": "ipython",
    "version": 3
   },
   "file_extension": ".py",
   "mimetype": "text/x-python",
   "name": "python",
   "nbconvert_exporter": "python",
   "pygments_lexer": "ipython3",
   "version": "3.7.12"
  }
 },
 "nbformat": 4,
 "nbformat_minor": 2
}
